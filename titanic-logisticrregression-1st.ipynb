{
 "cells": [
  {
   "cell_type": "code",
   "execution_count": 1,
   "id": "10b2174c",
   "metadata": {
    "_cell_guid": "b1076dfc-b9ad-4769-8c92-a6c4dae69d19",
    "_uuid": "8f2839f25d086af736a60e9eeb907d3b93b6e0e5",
    "execution": {
     "iopub.execute_input": "2024-02-06T08:26:52.107486Z",
     "iopub.status.busy": "2024-02-06T08:26:52.106451Z",
     "iopub.status.idle": "2024-02-06T08:26:53.219680Z",
     "shell.execute_reply": "2024-02-06T08:26:53.218453Z"
    },
    "papermill": {
     "duration": 1.152844,
     "end_time": "2024-02-06T08:26:53.222459",
     "exception": false,
     "start_time": "2024-02-06T08:26:52.069615",
     "status": "completed"
    },
    "tags": []
   },
   "outputs": [
    {
     "name": "stdout",
     "output_type": "stream",
     "text": [
      "/kaggle/input/titanic/train.csv\n",
      "/kaggle/input/titanic/test.csv\n",
      "/kaggle/input/titanic/gender_submission.csv\n"
     ]
    }
   ],
   "source": [
    "# This Python 3 environment comes with many helpful analytics libraries installed\n",
    "# It is defined by the kaggle/python Docker image: https://github.com/kaggle/docker-python\n",
    "# For example, here's several helpful packages to load\n",
    "\n",
    "import numpy as np # linear algebra\n",
    "import pandas as pd # data processing, CSV file I/O (e.g. pd.read_csv)\n",
    "\n",
    "# Input data files are available in the read-only \"../input/\" directory\n",
    "# For example, running this (by clicking run or pressing Shift+Enter) will list all files under the input directory\n",
    "\n",
    "import os\n",
    "for dirname, _, filenames in os.walk('/kaggle/input'):\n",
    "    for filename in filenames:\n",
    "        print(os.path.join(dirname, filename))\n",
    "\n",
    "# You can write up to 20GB to the current directory (/kaggle/working/) that gets preserved as output when you create a version using \"Save & Run All\" \n",
    "# You can also write temporary files to /kaggle/temp/, but they won't be saved outside of the current session"
   ]
  },
  {
   "cell_type": "markdown",
   "id": "d4948dd9",
   "metadata": {
    "papermill": {
     "duration": 0.032624,
     "end_time": "2024-02-06T08:26:53.290287",
     "exception": false,
     "start_time": "2024-02-06T08:26:53.257663",
     "status": "completed"
    },
    "tags": []
   },
   "source": [
    "# 1. Set up Libararies"
   ]
  },
  {
   "cell_type": "code",
   "execution_count": 2,
   "id": "9a4ed2e8",
   "metadata": {
    "execution": {
     "iopub.execute_input": "2024-02-06T08:26:53.355729Z",
     "iopub.status.busy": "2024-02-06T08:26:53.354655Z",
     "iopub.status.idle": "2024-02-06T08:26:55.433249Z",
     "shell.execute_reply": "2024-02-06T08:26:55.432240Z"
    },
    "papermill": {
     "duration": 2.114563,
     "end_time": "2024-02-06T08:26:55.436400",
     "exception": false,
     "start_time": "2024-02-06T08:26:53.321837",
     "status": "completed"
    },
    "tags": []
   },
   "outputs": [],
   "source": [
    "import pandas as pd\n",
    "import numpy as np\n",
    "\n",
    "import matplotlib.pyplot as plt\n",
    "import seaborn as sns\n",
    "\n",
    "from sklearn.model_selection import train_test_split\n",
    "\n",
    "from sklearn.linear_model import LinearRegression\n",
    "from sklearn.linear_model import LogisticRegression\n",
    "from sklearn.tree import DecisionTreeClassifier\n",
    "from sklearn import svm\n",
    "\n",
    "from sklearn.metrics import jaccard_score\n",
    "from sklearn.metrics import f1_score\n",
    "from sklearn.metrics import log_loss\n",
    "from sklearn.metrics import accuracy_score\n",
    "import sklearn.metrics as metrics"
   ]
  },
  {
   "cell_type": "markdown",
   "id": "6c9a9786",
   "metadata": {
    "papermill": {
     "duration": 0.031381,
     "end_time": "2024-02-06T08:26:55.499230",
     "exception": false,
     "start_time": "2024-02-06T08:26:55.467849",
     "status": "completed"
    },
    "tags": []
   },
   "source": [
    "# 2. Import Dataset"
   ]
  },
  {
   "cell_type": "code",
   "execution_count": 3,
   "id": "e3ac42ca",
   "metadata": {
    "execution": {
     "iopub.execute_input": "2024-02-06T08:26:55.563789Z",
     "iopub.status.busy": "2024-02-06T08:26:55.563368Z",
     "iopub.status.idle": "2024-02-06T08:26:55.593490Z",
     "shell.execute_reply": "2024-02-06T08:26:55.592426Z"
    },
    "papermill": {
     "duration": 0.065785,
     "end_time": "2024-02-06T08:26:55.596207",
     "exception": false,
     "start_time": "2024-02-06T08:26:55.530422",
     "status": "completed"
    },
    "tags": []
   },
   "outputs": [],
   "source": [
    "titanic_tr = pd.read_csv(\"/kaggle/input/titanic/train.csv\")\n",
    "titanic_test = pd.read_csv(\"/kaggle/input/titanic/test.csv\")"
   ]
  },
  {
   "cell_type": "markdown",
   "id": "517b2ba2",
   "metadata": {
    "papermill": {
     "duration": 0.031239,
     "end_time": "2024-02-06T08:26:55.659279",
     "exception": false,
     "start_time": "2024-02-06T08:26:55.628040",
     "status": "completed"
    },
    "tags": []
   },
   "source": [
    "# 3. EDA"
   ]
  },
  {
   "cell_type": "code",
   "execution_count": 4,
   "id": "cf9101ec",
   "metadata": {
    "execution": {
     "iopub.execute_input": "2024-02-06T08:26:55.724219Z",
     "iopub.status.busy": "2024-02-06T08:26:55.723439Z",
     "iopub.status.idle": "2024-02-06T08:26:55.748920Z",
     "shell.execute_reply": "2024-02-06T08:26:55.747815Z"
    },
    "papermill": {
     "duration": 0.060847,
     "end_time": "2024-02-06T08:26:55.751377",
     "exception": false,
     "start_time": "2024-02-06T08:26:55.690530",
     "status": "completed"
    },
    "tags": []
   },
   "outputs": [
    {
     "data": {
      "text/html": [
       "<div>\n",
       "<style scoped>\n",
       "    .dataframe tbody tr th:only-of-type {\n",
       "        vertical-align: middle;\n",
       "    }\n",
       "\n",
       "    .dataframe tbody tr th {\n",
       "        vertical-align: top;\n",
       "    }\n",
       "\n",
       "    .dataframe thead th {\n",
       "        text-align: right;\n",
       "    }\n",
       "</style>\n",
       "<table border=\"1\" class=\"dataframe\">\n",
       "  <thead>\n",
       "    <tr style=\"text-align: right;\">\n",
       "      <th></th>\n",
       "      <th>PassengerId</th>\n",
       "      <th>Survived</th>\n",
       "      <th>Pclass</th>\n",
       "      <th>Name</th>\n",
       "      <th>Sex</th>\n",
       "      <th>Age</th>\n",
       "      <th>SibSp</th>\n",
       "      <th>Parch</th>\n",
       "      <th>Ticket</th>\n",
       "      <th>Fare</th>\n",
       "      <th>Cabin</th>\n",
       "      <th>Embarked</th>\n",
       "    </tr>\n",
       "  </thead>\n",
       "  <tbody>\n",
       "    <tr>\n",
       "      <th>0</th>\n",
       "      <td>1</td>\n",
       "      <td>0</td>\n",
       "      <td>3</td>\n",
       "      <td>Braund, Mr. Owen Harris</td>\n",
       "      <td>male</td>\n",
       "      <td>22.0</td>\n",
       "      <td>1</td>\n",
       "      <td>0</td>\n",
       "      <td>A/5 21171</td>\n",
       "      <td>7.2500</td>\n",
       "      <td>NaN</td>\n",
       "      <td>S</td>\n",
       "    </tr>\n",
       "    <tr>\n",
       "      <th>1</th>\n",
       "      <td>2</td>\n",
       "      <td>1</td>\n",
       "      <td>1</td>\n",
       "      <td>Cumings, Mrs. John Bradley (Florence Briggs Th...</td>\n",
       "      <td>female</td>\n",
       "      <td>38.0</td>\n",
       "      <td>1</td>\n",
       "      <td>0</td>\n",
       "      <td>PC 17599</td>\n",
       "      <td>71.2833</td>\n",
       "      <td>C85</td>\n",
       "      <td>C</td>\n",
       "    </tr>\n",
       "    <tr>\n",
       "      <th>2</th>\n",
       "      <td>3</td>\n",
       "      <td>1</td>\n",
       "      <td>3</td>\n",
       "      <td>Heikkinen, Miss. Laina</td>\n",
       "      <td>female</td>\n",
       "      <td>26.0</td>\n",
       "      <td>0</td>\n",
       "      <td>0</td>\n",
       "      <td>STON/O2. 3101282</td>\n",
       "      <td>7.9250</td>\n",
       "      <td>NaN</td>\n",
       "      <td>S</td>\n",
       "    </tr>\n",
       "    <tr>\n",
       "      <th>3</th>\n",
       "      <td>4</td>\n",
       "      <td>1</td>\n",
       "      <td>1</td>\n",
       "      <td>Futrelle, Mrs. Jacques Heath (Lily May Peel)</td>\n",
       "      <td>female</td>\n",
       "      <td>35.0</td>\n",
       "      <td>1</td>\n",
       "      <td>0</td>\n",
       "      <td>113803</td>\n",
       "      <td>53.1000</td>\n",
       "      <td>C123</td>\n",
       "      <td>S</td>\n",
       "    </tr>\n",
       "    <tr>\n",
       "      <th>4</th>\n",
       "      <td>5</td>\n",
       "      <td>0</td>\n",
       "      <td>3</td>\n",
       "      <td>Allen, Mr. William Henry</td>\n",
       "      <td>male</td>\n",
       "      <td>35.0</td>\n",
       "      <td>0</td>\n",
       "      <td>0</td>\n",
       "      <td>373450</td>\n",
       "      <td>8.0500</td>\n",
       "      <td>NaN</td>\n",
       "      <td>S</td>\n",
       "    </tr>\n",
       "  </tbody>\n",
       "</table>\n",
       "</div>"
      ],
      "text/plain": [
       "   PassengerId  Survived  Pclass  \\\n",
       "0            1         0       3   \n",
       "1            2         1       1   \n",
       "2            3         1       3   \n",
       "3            4         1       1   \n",
       "4            5         0       3   \n",
       "\n",
       "                                                Name     Sex   Age  SibSp  \\\n",
       "0                            Braund, Mr. Owen Harris    male  22.0      1   \n",
       "1  Cumings, Mrs. John Bradley (Florence Briggs Th...  female  38.0      1   \n",
       "2                             Heikkinen, Miss. Laina  female  26.0      0   \n",
       "3       Futrelle, Mrs. Jacques Heath (Lily May Peel)  female  35.0      1   \n",
       "4                           Allen, Mr. William Henry    male  35.0      0   \n",
       "\n",
       "   Parch            Ticket     Fare Cabin Embarked  \n",
       "0      0         A/5 21171   7.2500   NaN        S  \n",
       "1      0          PC 17599  71.2833   C85        C  \n",
       "2      0  STON/O2. 3101282   7.9250   NaN        S  \n",
       "3      0            113803  53.1000  C123        S  \n",
       "4      0            373450   8.0500   NaN        S  "
      ]
     },
     "execution_count": 4,
     "metadata": {},
     "output_type": "execute_result"
    }
   ],
   "source": [
    "titanic_tr.head()"
   ]
  },
  {
   "cell_type": "code",
   "execution_count": 5,
   "id": "f3a70e83",
   "metadata": {
    "execution": {
     "iopub.execute_input": "2024-02-06T08:26:55.817762Z",
     "iopub.status.busy": "2024-02-06T08:26:55.816771Z",
     "iopub.status.idle": "2024-02-06T08:26:55.880280Z",
     "shell.execute_reply": "2024-02-06T08:26:55.879096Z"
    },
    "papermill": {
     "duration": 0.10001,
     "end_time": "2024-02-06T08:26:55.883521",
     "exception": false,
     "start_time": "2024-02-06T08:26:55.783511",
     "status": "completed"
    },
    "tags": []
   },
   "outputs": [
    {
     "data": {
      "text/html": [
       "<div>\n",
       "<style scoped>\n",
       "    .dataframe tbody tr th:only-of-type {\n",
       "        vertical-align: middle;\n",
       "    }\n",
       "\n",
       "    .dataframe tbody tr th {\n",
       "        vertical-align: top;\n",
       "    }\n",
       "\n",
       "    .dataframe thead th {\n",
       "        text-align: right;\n",
       "    }\n",
       "</style>\n",
       "<table border=\"1\" class=\"dataframe\">\n",
       "  <thead>\n",
       "    <tr style=\"text-align: right;\">\n",
       "      <th></th>\n",
       "      <th>PassengerId</th>\n",
       "      <th>Survived</th>\n",
       "      <th>Pclass</th>\n",
       "      <th>Name</th>\n",
       "      <th>Sex</th>\n",
       "      <th>Age</th>\n",
       "      <th>SibSp</th>\n",
       "      <th>Parch</th>\n",
       "      <th>Ticket</th>\n",
       "      <th>Fare</th>\n",
       "      <th>Cabin</th>\n",
       "      <th>Embarked</th>\n",
       "    </tr>\n",
       "  </thead>\n",
       "  <tbody>\n",
       "    <tr>\n",
       "      <th>count</th>\n",
       "      <td>891.000000</td>\n",
       "      <td>891.000000</td>\n",
       "      <td>891.000000</td>\n",
       "      <td>891</td>\n",
       "      <td>891</td>\n",
       "      <td>714.000000</td>\n",
       "      <td>891.000000</td>\n",
       "      <td>891.000000</td>\n",
       "      <td>891</td>\n",
       "      <td>891.000000</td>\n",
       "      <td>204</td>\n",
       "      <td>889</td>\n",
       "    </tr>\n",
       "    <tr>\n",
       "      <th>unique</th>\n",
       "      <td>NaN</td>\n",
       "      <td>NaN</td>\n",
       "      <td>NaN</td>\n",
       "      <td>891</td>\n",
       "      <td>2</td>\n",
       "      <td>NaN</td>\n",
       "      <td>NaN</td>\n",
       "      <td>NaN</td>\n",
       "      <td>681</td>\n",
       "      <td>NaN</td>\n",
       "      <td>147</td>\n",
       "      <td>3</td>\n",
       "    </tr>\n",
       "    <tr>\n",
       "      <th>top</th>\n",
       "      <td>NaN</td>\n",
       "      <td>NaN</td>\n",
       "      <td>NaN</td>\n",
       "      <td>Braund, Mr. Owen Harris</td>\n",
       "      <td>male</td>\n",
       "      <td>NaN</td>\n",
       "      <td>NaN</td>\n",
       "      <td>NaN</td>\n",
       "      <td>347082</td>\n",
       "      <td>NaN</td>\n",
       "      <td>B96 B98</td>\n",
       "      <td>S</td>\n",
       "    </tr>\n",
       "    <tr>\n",
       "      <th>freq</th>\n",
       "      <td>NaN</td>\n",
       "      <td>NaN</td>\n",
       "      <td>NaN</td>\n",
       "      <td>1</td>\n",
       "      <td>577</td>\n",
       "      <td>NaN</td>\n",
       "      <td>NaN</td>\n",
       "      <td>NaN</td>\n",
       "      <td>7</td>\n",
       "      <td>NaN</td>\n",
       "      <td>4</td>\n",
       "      <td>644</td>\n",
       "    </tr>\n",
       "    <tr>\n",
       "      <th>mean</th>\n",
       "      <td>446.000000</td>\n",
       "      <td>0.383838</td>\n",
       "      <td>2.308642</td>\n",
       "      <td>NaN</td>\n",
       "      <td>NaN</td>\n",
       "      <td>29.699118</td>\n",
       "      <td>0.523008</td>\n",
       "      <td>0.381594</td>\n",
       "      <td>NaN</td>\n",
       "      <td>32.204208</td>\n",
       "      <td>NaN</td>\n",
       "      <td>NaN</td>\n",
       "    </tr>\n",
       "    <tr>\n",
       "      <th>std</th>\n",
       "      <td>257.353842</td>\n",
       "      <td>0.486592</td>\n",
       "      <td>0.836071</td>\n",
       "      <td>NaN</td>\n",
       "      <td>NaN</td>\n",
       "      <td>14.526497</td>\n",
       "      <td>1.102743</td>\n",
       "      <td>0.806057</td>\n",
       "      <td>NaN</td>\n",
       "      <td>49.693429</td>\n",
       "      <td>NaN</td>\n",
       "      <td>NaN</td>\n",
       "    </tr>\n",
       "    <tr>\n",
       "      <th>min</th>\n",
       "      <td>1.000000</td>\n",
       "      <td>0.000000</td>\n",
       "      <td>1.000000</td>\n",
       "      <td>NaN</td>\n",
       "      <td>NaN</td>\n",
       "      <td>0.420000</td>\n",
       "      <td>0.000000</td>\n",
       "      <td>0.000000</td>\n",
       "      <td>NaN</td>\n",
       "      <td>0.000000</td>\n",
       "      <td>NaN</td>\n",
       "      <td>NaN</td>\n",
       "    </tr>\n",
       "    <tr>\n",
       "      <th>25%</th>\n",
       "      <td>223.500000</td>\n",
       "      <td>0.000000</td>\n",
       "      <td>2.000000</td>\n",
       "      <td>NaN</td>\n",
       "      <td>NaN</td>\n",
       "      <td>20.125000</td>\n",
       "      <td>0.000000</td>\n",
       "      <td>0.000000</td>\n",
       "      <td>NaN</td>\n",
       "      <td>7.910400</td>\n",
       "      <td>NaN</td>\n",
       "      <td>NaN</td>\n",
       "    </tr>\n",
       "    <tr>\n",
       "      <th>50%</th>\n",
       "      <td>446.000000</td>\n",
       "      <td>0.000000</td>\n",
       "      <td>3.000000</td>\n",
       "      <td>NaN</td>\n",
       "      <td>NaN</td>\n",
       "      <td>28.000000</td>\n",
       "      <td>0.000000</td>\n",
       "      <td>0.000000</td>\n",
       "      <td>NaN</td>\n",
       "      <td>14.454200</td>\n",
       "      <td>NaN</td>\n",
       "      <td>NaN</td>\n",
       "    </tr>\n",
       "    <tr>\n",
       "      <th>75%</th>\n",
       "      <td>668.500000</td>\n",
       "      <td>1.000000</td>\n",
       "      <td>3.000000</td>\n",
       "      <td>NaN</td>\n",
       "      <td>NaN</td>\n",
       "      <td>38.000000</td>\n",
       "      <td>1.000000</td>\n",
       "      <td>0.000000</td>\n",
       "      <td>NaN</td>\n",
       "      <td>31.000000</td>\n",
       "      <td>NaN</td>\n",
       "      <td>NaN</td>\n",
       "    </tr>\n",
       "    <tr>\n",
       "      <th>max</th>\n",
       "      <td>891.000000</td>\n",
       "      <td>1.000000</td>\n",
       "      <td>3.000000</td>\n",
       "      <td>NaN</td>\n",
       "      <td>NaN</td>\n",
       "      <td>80.000000</td>\n",
       "      <td>8.000000</td>\n",
       "      <td>6.000000</td>\n",
       "      <td>NaN</td>\n",
       "      <td>512.329200</td>\n",
       "      <td>NaN</td>\n",
       "      <td>NaN</td>\n",
       "    </tr>\n",
       "  </tbody>\n",
       "</table>\n",
       "</div>"
      ],
      "text/plain": [
       "        PassengerId    Survived      Pclass                     Name   Sex  \\\n",
       "count    891.000000  891.000000  891.000000                      891   891   \n",
       "unique          NaN         NaN         NaN                      891     2   \n",
       "top             NaN         NaN         NaN  Braund, Mr. Owen Harris  male   \n",
       "freq            NaN         NaN         NaN                        1   577   \n",
       "mean     446.000000    0.383838    2.308642                      NaN   NaN   \n",
       "std      257.353842    0.486592    0.836071                      NaN   NaN   \n",
       "min        1.000000    0.000000    1.000000                      NaN   NaN   \n",
       "25%      223.500000    0.000000    2.000000                      NaN   NaN   \n",
       "50%      446.000000    0.000000    3.000000                      NaN   NaN   \n",
       "75%      668.500000    1.000000    3.000000                      NaN   NaN   \n",
       "max      891.000000    1.000000    3.000000                      NaN   NaN   \n",
       "\n",
       "               Age       SibSp       Parch  Ticket        Fare    Cabin  \\\n",
       "count   714.000000  891.000000  891.000000     891  891.000000      204   \n",
       "unique         NaN         NaN         NaN     681         NaN      147   \n",
       "top            NaN         NaN         NaN  347082         NaN  B96 B98   \n",
       "freq           NaN         NaN         NaN       7         NaN        4   \n",
       "mean     29.699118    0.523008    0.381594     NaN   32.204208      NaN   \n",
       "std      14.526497    1.102743    0.806057     NaN   49.693429      NaN   \n",
       "min       0.420000    0.000000    0.000000     NaN    0.000000      NaN   \n",
       "25%      20.125000    0.000000    0.000000     NaN    7.910400      NaN   \n",
       "50%      28.000000    0.000000    0.000000     NaN   14.454200      NaN   \n",
       "75%      38.000000    1.000000    0.000000     NaN   31.000000      NaN   \n",
       "max      80.000000    8.000000    6.000000     NaN  512.329200      NaN   \n",
       "\n",
       "       Embarked  \n",
       "count       889  \n",
       "unique        3  \n",
       "top           S  \n",
       "freq        644  \n",
       "mean        NaN  \n",
       "std         NaN  \n",
       "min         NaN  \n",
       "25%         NaN  \n",
       "50%         NaN  \n",
       "75%         NaN  \n",
       "max         NaN  "
      ]
     },
     "execution_count": 5,
     "metadata": {},
     "output_type": "execute_result"
    }
   ],
   "source": [
    "titanic_tr.describe(include=\"all\")"
   ]
  },
  {
   "cell_type": "code",
   "execution_count": 6,
   "id": "30102edc",
   "metadata": {
    "execution": {
     "iopub.execute_input": "2024-02-06T08:26:55.951001Z",
     "iopub.status.busy": "2024-02-06T08:26:55.950569Z",
     "iopub.status.idle": "2024-02-06T08:26:55.968432Z",
     "shell.execute_reply": "2024-02-06T08:26:55.966896Z"
    },
    "papermill": {
     "duration": 0.05418,
     "end_time": "2024-02-06T08:26:55.970771",
     "exception": false,
     "start_time": "2024-02-06T08:26:55.916591",
     "status": "completed"
    },
    "tags": []
   },
   "outputs": [
    {
     "name": "stdout",
     "output_type": "stream",
     "text": [
      "<class 'pandas.core.frame.DataFrame'>\n",
      "RangeIndex: 891 entries, 0 to 890\n",
      "Data columns (total 12 columns):\n",
      " #   Column       Non-Null Count  Dtype  \n",
      "---  ------       --------------  -----  \n",
      " 0   PassengerId  891 non-null    int64  \n",
      " 1   Survived     891 non-null    int64  \n",
      " 2   Pclass       891 non-null    int64  \n",
      " 3   Name         891 non-null    object \n",
      " 4   Sex          891 non-null    object \n",
      " 5   Age          714 non-null    float64\n",
      " 6   SibSp        891 non-null    int64  \n",
      " 7   Parch        891 non-null    int64  \n",
      " 8   Ticket       891 non-null    object \n",
      " 9   Fare         891 non-null    float64\n",
      " 10  Cabin        204 non-null    object \n",
      " 11  Embarked     889 non-null    object \n",
      "dtypes: float64(2), int64(5), object(5)\n",
      "memory usage: 83.7+ KB\n"
     ]
    }
   ],
   "source": [
    "titanic_tr.info()"
   ]
  },
  {
   "cell_type": "markdown",
   "id": "39ebcc71",
   "metadata": {
    "papermill": {
     "duration": 0.091554,
     "end_time": "2024-02-06T08:26:56.095324",
     "exception": false,
     "start_time": "2024-02-06T08:26:56.003770",
     "status": "completed"
    },
    "tags": []
   },
   "source": [
    "The train dataset has some of NaN values and some of object type of data"
   ]
  },
  {
   "cell_type": "code",
   "execution_count": 7,
   "id": "45c38b93",
   "metadata": {
    "execution": {
     "iopub.execute_input": "2024-02-06T08:26:56.163170Z",
     "iopub.status.busy": "2024-02-06T08:26:56.162751Z",
     "iopub.status.idle": "2024-02-06T08:26:56.172234Z",
     "shell.execute_reply": "2024-02-06T08:26:56.171393Z"
    },
    "papermill": {
     "duration": 0.046076,
     "end_time": "2024-02-06T08:26:56.174329",
     "exception": false,
     "start_time": "2024-02-06T08:26:56.128253",
     "status": "completed"
    },
    "tags": []
   },
   "outputs": [
    {
     "data": {
      "text/plain": [
       "Cabin          687\n",
       "Age            177\n",
       "Embarked         2\n",
       "PassengerId      0\n",
       "Survived         0\n",
       "Pclass           0\n",
       "Name             0\n",
       "Sex              0\n",
       "SibSp            0\n",
       "Parch            0\n",
       "Ticket           0\n",
       "Fare             0\n",
       "dtype: int64"
      ]
     },
     "execution_count": 7,
     "metadata": {},
     "output_type": "execute_result"
    }
   ],
   "source": [
    "missing_data = titanic_tr.isnull().sum().sort_values(ascending=False)\n",
    "missing_data"
   ]
  },
  {
   "cell_type": "code",
   "execution_count": 8,
   "id": "c96df913",
   "metadata": {
    "execution": {
     "iopub.execute_input": "2024-02-06T08:26:56.242218Z",
     "iopub.status.busy": "2024-02-06T08:26:56.241804Z",
     "iopub.status.idle": "2024-02-06T08:26:56.253966Z",
     "shell.execute_reply": "2024-02-06T08:26:56.252851Z"
    },
    "papermill": {
     "duration": 0.049436,
     "end_time": "2024-02-06T08:26:56.256250",
     "exception": false,
     "start_time": "2024-02-06T08:26:56.206814",
     "status": "completed"
    },
    "tags": []
   },
   "outputs": [
    {
     "data": {
      "text/plain": [
       "Cabin          0.771044\n",
       "Age            0.198653\n",
       "Embarked       0.002245\n",
       "PassengerId    0.000000\n",
       "Survived       0.000000\n",
       "Pclass         0.000000\n",
       "Name           0.000000\n",
       "Sex            0.000000\n",
       "SibSp          0.000000\n",
       "Parch          0.000000\n",
       "Ticket         0.000000\n",
       "Fare           0.000000\n",
       "dtype: float64"
      ]
     },
     "execution_count": 8,
     "metadata": {},
     "output_type": "execute_result"
    }
   ],
   "source": [
    "missing_percent = (titanic_tr.isnull().sum()/titanic_tr.isnull().count()).sort_values(ascending=False)\n",
    "missing_percent"
   ]
  },
  {
   "cell_type": "markdown",
   "id": "313c1856",
   "metadata": {
    "papermill": {
     "duration": 0.033302,
     "end_time": "2024-02-06T08:26:56.322230",
     "exception": false,
     "start_time": "2024-02-06T08:26:56.288928",
     "status": "completed"
    },
    "tags": []
   },
   "source": [
    "**The \"Cabin\" column in train data has NaN value more than 70%, \"Age\" with about 20%, \"Embarked with about 0.002%**\n",
    "> Need to decide how to handle those data -> we'll see after more EDA done"
   ]
  },
  {
   "cell_type": "code",
   "execution_count": 9,
   "id": "2da4ed21",
   "metadata": {
    "execution": {
     "iopub.execute_input": "2024-02-06T08:26:56.391744Z",
     "iopub.status.busy": "2024-02-06T08:26:56.391317Z",
     "iopub.status.idle": "2024-02-06T08:26:56.404973Z",
     "shell.execute_reply": "2024-02-06T08:26:56.403933Z"
    },
    "papermill": {
     "duration": 0.050461,
     "end_time": "2024-02-06T08:26:56.407392",
     "exception": false,
     "start_time": "2024-02-06T08:26:56.356931",
     "status": "completed"
    },
    "tags": []
   },
   "outputs": [
    {
     "data": {
      "text/plain": [
       "PassengerId    891\n",
       "Survived         2\n",
       "Pclass           3\n",
       "Name           891\n",
       "Sex              2\n",
       "Age             88\n",
       "SibSp            7\n",
       "Parch            7\n",
       "Ticket         681\n",
       "Fare           248\n",
       "Cabin          147\n",
       "Embarked         3\n",
       "dtype: int64"
      ]
     },
     "execution_count": 9,
     "metadata": {},
     "output_type": "execute_result"
    }
   ],
   "source": [
    "titanic_tr.nunique()"
   ]
  },
  {
   "cell_type": "markdown",
   "id": "232c2a37",
   "metadata": {
    "papermill": {
     "duration": 0.033166,
     "end_time": "2024-02-06T08:26:56.474284",
     "exception": false,
     "start_time": "2024-02-06T08:26:56.441118",
     "status": "completed"
    },
    "tags": []
   },
   "source": [
    "I think it needs to categorize **\"Age\"** and **\"Fare\"** columns to predict more precisely\\\n",
    "Let's see how the data distributed briefly"
   ]
  },
  {
   "cell_type": "code",
   "execution_count": 10,
   "id": "d0c1f006",
   "metadata": {
    "execution": {
     "iopub.execute_input": "2024-02-06T08:26:56.543767Z",
     "iopub.status.busy": "2024-02-06T08:26:56.543386Z",
     "iopub.status.idle": "2024-02-06T08:26:56.895095Z",
     "shell.execute_reply": "2024-02-06T08:26:56.893907Z"
    },
    "papermill": {
     "duration": 0.389692,
     "end_time": "2024-02-06T08:26:56.897509",
     "exception": false,
     "start_time": "2024-02-06T08:26:56.507817",
     "status": "completed"
    },
    "tags": []
   },
   "outputs": [
    {
     "data": {
      "text/plain": [
       "array([[<Axes: title={'center': 'Age'}>]], dtype=object)"
      ]
     },
     "execution_count": 10,
     "metadata": {},
     "output_type": "execute_result"
    },
    {
     "data": {
      "image/png": "[encoded data removed]",
      "text/plain": [
       "<Figure size 640x480 with 1 Axes>"
      ]
     },
     "metadata": {},
     "output_type": "display_data"
    }
   ],
   "source": [
    "titanic_tr.hist(\"Age\")"
   ]
  },
  {
   "cell_type": "code",
   "execution_count": 11,
   "id": "c5314f17",
   "metadata": {
    "execution": {
     "iopub.execute_input": "2024-02-06T08:26:56.966303Z",
     "iopub.status.busy": "2024-02-06T08:26:56.965883Z",
     "iopub.status.idle": "2024-02-06T08:26:57.251850Z",
     "shell.execute_reply": "2024-02-06T08:26:57.250085Z"
    },
    "papermill": {
     "duration": 0.323786,
     "end_time": "2024-02-06T08:26:57.254725",
     "exception": false,
     "start_time": "2024-02-06T08:26:56.930939",
     "status": "completed"
    },
    "tags": []
   },
   "outputs": [
    {
     "data": {
      "text/plain": [
       "array([[<Axes: title={'center': 'Fare'}>]], dtype=object)"
      ]
     },
     "execution_count": 11,
     "metadata": {},
     "output_type": "execute_result"
    },
    {
     "data": {
      "image/png": "[encoded data removed]",
      "text/plain": [
       "<Figure size 640x480 with 1 Axes>"
      ]
     },
     "metadata": {},
     "output_type": "display_data"
    }
   ],
   "source": [
    "titanic_tr.hist(\"Fare\")"
   ]
  },
  {
   "cell_type": "markdown",
   "id": "7087ed0a",
   "metadata": {
    "papermill": {
     "duration": 0.03536,
     "end_time": "2024-02-06T08:26:57.325119",
     "exception": false,
     "start_time": "2024-02-06T08:26:57.289759",
     "status": "completed"
    },
    "tags": []
   },
   "source": [
    "#### I think the PassengerId, Name, and Ticket columns obviously do not effect on the servival, so let's drop these columns"
   ]
  },
  {
   "cell_type": "code",
   "execution_count": 12,
   "id": "3efb0291",
   "metadata": {
    "execution": {
     "iopub.execute_input": "2024-02-06T08:26:57.395543Z",
     "iopub.status.busy": "2024-02-06T08:26:57.395089Z",
     "iopub.status.idle": "2024-02-06T08:26:57.406412Z",
     "shell.execute_reply": "2024-02-06T08:26:57.404703Z"
    },
    "papermill": {
     "duration": 0.05014,
     "end_time": "2024-02-06T08:26:57.409669",
     "exception": false,
     "start_time": "2024-02-06T08:26:57.359529",
     "status": "completed"
    },
    "tags": []
   },
   "outputs": [
    {
     "data": {
      "text/plain": [
       "Index(['Survived', 'Pclass', 'Sex', 'Age', 'SibSp', 'Parch', 'Fare', 'Cabin',\n",
       "       'Embarked'],\n",
       "      dtype='object')"
      ]
     },
     "execution_count": 12,
     "metadata": {},
     "output_type": "execute_result"
    }
   ],
   "source": [
    "titanic_d = titanic_tr.drop(['PassengerId', 'Name', 'Ticket'], axis=1)\n",
    "titanic_d.columns"
   ]
  },
  {
   "cell_type": "markdown",
   "id": "73021c8a",
   "metadata": {
    "papermill": {
     "duration": 0.035221,
     "end_time": "2024-02-06T08:26:57.479884",
     "exception": false,
     "start_time": "2024-02-06T08:26:57.444663",
     "status": "completed"
    },
    "tags": []
   },
   "source": [
    "#### Let's see the survival and with columns that has less unique values"
   ]
  },
  {
   "cell_type": "code",
   "execution_count": 13,
   "id": "c1f3ca8c",
   "metadata": {
    "execution": {
     "iopub.execute_input": "2024-02-06T08:26:57.551354Z",
     "iopub.status.busy": "2024-02-06T08:26:57.550688Z",
     "iopub.status.idle": "2024-02-06T08:26:57.808456Z",
     "shell.execute_reply": "2024-02-06T08:26:57.807260Z"
    },
    "papermill": {
     "duration": 0.295712,
     "end_time": "2024-02-06T08:26:57.810900",
     "exception": false,
     "start_time": "2024-02-06T08:26:57.515188",
     "status": "completed"
    },
    "tags": []
   },
   "outputs": [
    {
     "data": {
      "text/plain": [
       "<Axes: xlabel='Sex', ylabel='Survived'>"
      ]
     },
     "execution_count": 13,
     "metadata": {},
     "output_type": "execute_result"
    },
    {
     "data": {
      "image/png": "[encoded data removed]",
      "text/plain": [
       "<Figure size 640x480 with 1 Axes>"
      ]
     },
     "metadata": {},
     "output_type": "display_data"
    }
   ],
   "source": [
    "sns.barplot(titanic_d, x=\"Sex\", y=\"Survived\")"
   ]
  },
  {
   "cell_type": "code",
   "execution_count": 14,
   "id": "dedfbc42",
   "metadata": {
    "execution": {
     "iopub.execute_input": "2024-02-06T08:26:57.883437Z",
     "iopub.status.busy": "2024-02-06T08:26:57.883027Z",
     "iopub.status.idle": "2024-02-06T08:26:58.173835Z",
     "shell.execute_reply": "2024-02-06T08:26:58.172690Z"
    },
    "papermill": {
     "duration": 0.330021,
     "end_time": "2024-02-06T08:26:58.176492",
     "exception": false,
     "start_time": "2024-02-06T08:26:57.846471",
     "status": "completed"
    },
    "tags": []
   },
   "outputs": [
    {
     "data": {
      "text/plain": [
       "<Axes: xlabel='Pclass', ylabel='Survived'>"
      ]
     },
     "execution_count": 14,
     "metadata": {},
     "output_type": "execute_result"
    },
    {
     "data": {
      "image/png": "[encoded data removed]",
      "text/plain": [
       "<Figure size 640x480 with 1 Axes>"
      ]
     },
     "metadata": {},
     "output_type": "display_data"
    }
   ],
   "source": [
    "sns.barplot(titanic_d, x=\"Pclass\", y=\"Survived\")"
   ]
  },
  {
   "cell_type": "code",
   "execution_count": 15,
   "id": "b684bcf7",
   "metadata": {
    "execution": {
     "iopub.execute_input": "2024-02-06T08:26:58.249247Z",
     "iopub.status.busy": "2024-02-06T08:26:58.248839Z",
     "iopub.status.idle": "2024-02-06T08:26:58.729815Z",
     "shell.execute_reply": "2024-02-06T08:26:58.728708Z"
    },
    "papermill": {
     "duration": 0.52052,
     "end_time": "2024-02-06T08:26:58.732423",
     "exception": false,
     "start_time": "2024-02-06T08:26:58.211903",
     "status": "completed"
    },
    "tags": []
   },
   "outputs": [
    {
     "data": {
      "text/plain": [
       "<Axes: xlabel='SibSp', ylabel='Survived'>"
      ]
     },
     "execution_count": 15,
     "metadata": {},
     "output_type": "execute_result"
    },
    {
     "data": {
      "image/png": "[encoded data removed]",
      "text/plain": [
       "<Figure size 640x480 with 1 Axes>"
      ]
     },
     "metadata": {},
     "output_type": "display_data"
    }
   ],
   "source": [
    "sns.barplot(titanic_d, x=\"SibSp\", y=\"Survived\")"
   ]
  },
  {
   "cell_type": "code",
   "execution_count": 16,
   "id": "02c5f85b",
   "metadata": {
    "execution": {
     "iopub.execute_input": "2024-02-06T08:26:58.816793Z",
     "iopub.status.busy": "2024-02-06T08:26:58.816289Z",
     "iopub.status.idle": "2024-02-06T08:26:59.230927Z",
     "shell.execute_reply": "2024-02-06T08:26:59.229755Z"
    },
    "papermill": {
     "duration": 0.458031,
     "end_time": "2024-02-06T08:26:59.233700",
     "exception": false,
     "start_time": "2024-02-06T08:26:58.775669",
     "status": "completed"
    },
    "tags": []
   },
   "outputs": [
    {
     "data": {
      "text/plain": [
       "<Axes: xlabel='Parch', ylabel='Survived'>"
      ]
     },
     "execution_count": 16,
     "metadata": {},
     "output_type": "execute_result"
    },
    {
     "data": {
      "image/png": "[encoded data removed]",
      "text/plain": [
       "<Figure size 640x480 with 1 Axes>"
      ]
     },
     "metadata": {},
     "output_type": "display_data"
    }
   ],
   "source": [
    "sns.barplot(titanic_d, x=\"Parch\", y=\"Survived\")"
   ]
  },
  {
   "cell_type": "code",
   "execution_count": 17,
   "id": "bd28dcdd",
   "metadata": {
    "execution": {
     "iopub.execute_input": "2024-02-06T08:26:59.309810Z",
     "iopub.status.busy": "2024-02-06T08:26:59.308777Z",
     "iopub.status.idle": "2024-02-06T08:26:59.585812Z",
     "shell.execute_reply": "2024-02-06T08:26:59.584716Z"
    },
    "papermill": {
     "duration": 0.317234,
     "end_time": "2024-02-06T08:26:59.588344",
     "exception": false,
     "start_time": "2024-02-06T08:26:59.271110",
     "status": "completed"
    },
    "tags": []
   },
   "outputs": [
    {
     "data": {
      "text/plain": [
       "<Axes: xlabel='Embarked', ylabel='Survived'>"
      ]
     },
     "execution_count": 17,
     "metadata": {},
     "output_type": "execute_result"
    },
    {
     "data": {
      "image/png": "[encoded data removed]",
      "text/plain": [
       "<Figure size 640x480 with 1 Axes>"
      ]
     },
     "metadata": {},
     "output_type": "display_data"
    }
   ],
   "source": [
    "sns.barplot(titanic_d, x=\"Embarked\", y=\"Survived\")"
   ]
  },
  {
   "cell_type": "markdown",
   "id": "400e713d",
   "metadata": {
    "papermill": {
     "duration": 0.038059,
     "end_time": "2024-02-06T08:26:59.663842",
     "exception": false,
     "start_time": "2024-02-06T08:26:59.625783",
     "status": "completed"
    },
    "tags": []
   },
   "source": [
    "**It looks like the people who are female, upper socio-economy status, has 1 sibling or spouse, 3 total family member including themselves, and embarked on Cherbourg has been survived**"
   ]
  },
  {
   "cell_type": "markdown",
   "id": "3afa06c3",
   "metadata": {
    "papermill": {
     "duration": 0.037116,
     "end_time": "2024-02-06T08:26:59.737917",
     "exception": false,
     "start_time": "2024-02-06T08:26:59.700801",
     "status": "completed"
    },
    "tags": []
   },
   "source": [
    "### Before cleaning and preparing dataset, let's see the correlation of the features with the survival"
   ]
  },
  {
   "cell_type": "code",
   "execution_count": 18,
   "id": "f98da3a8",
   "metadata": {
    "execution": {
     "iopub.execute_input": "2024-02-06T08:26:59.814363Z",
     "iopub.status.busy": "2024-02-06T08:26:59.813933Z",
     "iopub.status.idle": "2024-02-06T08:27:00.245570Z",
     "shell.execute_reply": "2024-02-06T08:27:00.244448Z"
    },
    "papermill": {
     "duration": 0.473851,
     "end_time": "2024-02-06T08:27:00.248361",
     "exception": false,
     "start_time": "2024-02-06T08:26:59.774510",
     "status": "completed"
    },
    "tags": []
   },
   "outputs": [
    {
     "data": {
      "text/plain": [
       "<Axes: >"
      ]
     },
     "execution_count": 18,
     "metadata": {},
     "output_type": "execute_result"
    },
    {
     "data": {
      "image/png": "[encoded data removed]",
      "text/plain": [
       "<Figure size 1400x1400 with 2 Axes>"
      ]
     },
     "metadata": {},
     "output_type": "display_data"
    }
   ],
   "source": [
    "corr = titanic_d.corr(numeric_only=True)\n",
    "plt.figure(figsize = (7, 7), dpi=200)\n",
    "sns.heatmap(corr, cmap=\"Reds\")"
   ]
  },
  {
   "cell_type": "markdown",
   "id": "3046cea7",
   "metadata": {
    "papermill": {
     "duration": 0.037018,
     "end_time": "2024-02-06T08:27:00.323854",
     "exception": false,
     "start_time": "2024-02-06T08:27:00.286836",
     "status": "completed"
    },
    "tags": []
   },
   "source": [
    "From above, we got to know that ther's correlation between Survival and Fare, Parch and SibSp"
   ]
  },
  {
   "cell_type": "markdown",
   "id": "fc6f2208",
   "metadata": {
    "papermill": {
     "duration": 0.037189,
     "end_time": "2024-02-06T08:27:00.398953",
     "exception": false,
     "start_time": "2024-02-06T08:27:00.361764",
     "status": "completed"
    },
    "tags": []
   },
   "source": [
    "## 4. Cleaning and Preparing Data"
   ]
  },
  {
   "cell_type": "markdown",
   "id": "e2c33510",
   "metadata": {
    "papermill": {
     "duration": 0.037678,
     "end_time": "2024-02-06T08:27:00.475331",
     "exception": false,
     "start_time": "2024-02-06T08:27:00.437653",
     "status": "completed"
    },
    "tags": []
   },
   "source": [
    "#### **4.1. Age**"
   ]
  },
  {
   "cell_type": "code",
   "execution_count": 19,
   "id": "ed53a62f",
   "metadata": {
    "execution": {
     "iopub.execute_input": "2024-02-06T08:27:00.553386Z",
     "iopub.status.busy": "2024-02-06T08:27:00.552771Z",
     "iopub.status.idle": "2024-02-06T08:27:00.566041Z",
     "shell.execute_reply": "2024-02-06T08:27:00.564679Z"
    },
    "papermill": {
     "duration": 0.055139,
     "end_time": "2024-02-06T08:27:00.568314",
     "exception": false,
     "start_time": "2024-02-06T08:27:00.513175",
     "status": "completed"
    },
    "tags": []
   },
   "outputs": [],
   "source": [
    "bins = [0, 18, 40, 60, 100]\n",
    "labels = ['Minors', 'Youth', 'Middle-age', 'Seniors']\n",
    "titanic_d['Age_Group'] = pd.cut(titanic_d['Age'], bins=bins, labels=labels, right=False)\n",
    "\n",
    "titanic_d = titanic_d.drop(['Age'], axis=1)"
   ]
  },
  {
   "cell_type": "code",
   "execution_count": 20,
   "id": "d59dcb58",
   "metadata": {
    "execution": {
     "iopub.execute_input": "2024-02-06T08:27:00.645692Z",
     "iopub.status.busy": "2024-02-06T08:27:00.645279Z",
     "iopub.status.idle": "2024-02-06T08:27:00.661872Z",
     "shell.execute_reply": "2024-02-06T08:27:00.660757Z"
    },
    "papermill": {
     "duration": 0.058245,
     "end_time": "2024-02-06T08:27:00.664267",
     "exception": false,
     "start_time": "2024-02-06T08:27:00.606022",
     "status": "completed"
    },
    "tags": []
   },
   "outputs": [
    {
     "data": {
      "text/html": [
       "<div>\n",
       "<style scoped>\n",
       "    .dataframe tbody tr th:only-of-type {\n",
       "        vertical-align: middle;\n",
       "    }\n",
       "\n",
       "    .dataframe tbody tr th {\n",
       "        vertical-align: top;\n",
       "    }\n",
       "\n",
       "    .dataframe thead th {\n",
       "        text-align: right;\n",
       "    }\n",
       "</style>\n",
       "<table border=\"1\" class=\"dataframe\">\n",
       "  <thead>\n",
       "    <tr style=\"text-align: right;\">\n",
       "      <th></th>\n",
       "      <th>Survived</th>\n",
       "      <th>Pclass</th>\n",
       "      <th>Sex</th>\n",
       "      <th>SibSp</th>\n",
       "      <th>Parch</th>\n",
       "      <th>Fare</th>\n",
       "      <th>Cabin</th>\n",
       "      <th>Embarked</th>\n",
       "      <th>Age_Group</th>\n",
       "    </tr>\n",
       "  </thead>\n",
       "  <tbody>\n",
       "    <tr>\n",
       "      <th>0</th>\n",
       "      <td>0</td>\n",
       "      <td>3</td>\n",
       "      <td>male</td>\n",
       "      <td>1</td>\n",
       "      <td>0</td>\n",
       "      <td>7.2500</td>\n",
       "      <td>NaN</td>\n",
       "      <td>S</td>\n",
       "      <td>Youth</td>\n",
       "    </tr>\n",
       "    <tr>\n",
       "      <th>1</th>\n",
       "      <td>1</td>\n",
       "      <td>1</td>\n",
       "      <td>female</td>\n",
       "      <td>1</td>\n",
       "      <td>0</td>\n",
       "      <td>71.2833</td>\n",
       "      <td>C85</td>\n",
       "      <td>C</td>\n",
       "      <td>Youth</td>\n",
       "    </tr>\n",
       "    <tr>\n",
       "      <th>2</th>\n",
       "      <td>1</td>\n",
       "      <td>3</td>\n",
       "      <td>female</td>\n",
       "      <td>0</td>\n",
       "      <td>0</td>\n",
       "      <td>7.9250</td>\n",
       "      <td>NaN</td>\n",
       "      <td>S</td>\n",
       "      <td>Youth</td>\n",
       "    </tr>\n",
       "    <tr>\n",
       "      <th>3</th>\n",
       "      <td>1</td>\n",
       "      <td>1</td>\n",
       "      <td>female</td>\n",
       "      <td>1</td>\n",
       "      <td>0</td>\n",
       "      <td>53.1000</td>\n",
       "      <td>C123</td>\n",
       "      <td>S</td>\n",
       "      <td>Youth</td>\n",
       "    </tr>\n",
       "    <tr>\n",
       "      <th>4</th>\n",
       "      <td>0</td>\n",
       "      <td>3</td>\n",
       "      <td>male</td>\n",
       "      <td>0</td>\n",
       "      <td>0</td>\n",
       "      <td>8.0500</td>\n",
       "      <td>NaN</td>\n",
       "      <td>S</td>\n",
       "      <td>Youth</td>\n",
       "    </tr>\n",
       "  </tbody>\n",
       "</table>\n",
       "</div>"
      ],
      "text/plain": [
       "   Survived  Pclass     Sex  SibSp  Parch     Fare Cabin Embarked Age_Group\n",
       "0         0       3    male      1      0   7.2500   NaN        S     Youth\n",
       "1         1       1  female      1      0  71.2833   C85        C     Youth\n",
       "2         1       3  female      0      0   7.9250   NaN        S     Youth\n",
       "3         1       1  female      1      0  53.1000  C123        S     Youth\n",
       "4         0       3    male      0      0   8.0500   NaN        S     Youth"
      ]
     },
     "execution_count": 20,
     "metadata": {},
     "output_type": "execute_result"
    }
   ],
   "source": [
    "titanic_d.head()"
   ]
  },
  {
   "cell_type": "code",
   "execution_count": 21,
   "id": "bfdc43db",
   "metadata": {
    "execution": {
     "iopub.execute_input": "2024-02-06T08:27:00.742585Z",
     "iopub.status.busy": "2024-02-06T08:27:00.742117Z",
     "iopub.status.idle": "2024-02-06T08:27:00.752747Z",
     "shell.execute_reply": "2024-02-06T08:27:00.751463Z"
    },
    "papermill": {
     "duration": 0.052657,
     "end_time": "2024-02-06T08:27:00.755299",
     "exception": false,
     "start_time": "2024-02-06T08:27:00.702642",
     "status": "completed"
    },
    "tags": []
   },
   "outputs": [
    {
     "data": {
      "text/plain": [
       "Age_Group\n",
       "Youth         438\n",
       "Middle-age    137\n",
       "Minors        113\n",
       "Seniors        26\n",
       "Name: count, dtype: int64"
      ]
     },
     "execution_count": 21,
     "metadata": {},
     "output_type": "execute_result"
    }
   ],
   "source": [
    "titanic_d['Age_Group'].value_counts()"
   ]
  },
  {
   "cell_type": "code",
   "execution_count": 22,
   "id": "b6b6e6c0",
   "metadata": {
    "execution": {
     "iopub.execute_input": "2024-02-06T08:27:00.833864Z",
     "iopub.status.busy": "2024-02-06T08:27:00.833459Z",
     "iopub.status.idle": "2024-02-06T08:27:00.841297Z",
     "shell.execute_reply": "2024-02-06T08:27:00.840176Z"
    },
    "papermill": {
     "duration": 0.05045,
     "end_time": "2024-02-06T08:27:00.843734",
     "exception": false,
     "start_time": "2024-02-06T08:27:00.793284",
     "status": "completed"
    },
    "tags": []
   },
   "outputs": [
    {
     "data": {
      "text/plain": [
       "'Youth'"
      ]
     },
     "execution_count": 22,
     "metadata": {},
     "output_type": "execute_result"
    }
   ],
   "source": [
    "titanic_d['Age_Group'].value_counts().idxmax()"
   ]
  },
  {
   "cell_type": "code",
   "execution_count": 23,
   "id": "1db5fb13",
   "metadata": {
    "execution": {
     "iopub.execute_input": "2024-02-06T08:27:00.924119Z",
     "iopub.status.busy": "2024-02-06T08:27:00.923695Z",
     "iopub.status.idle": "2024-02-06T08:27:00.940588Z",
     "shell.execute_reply": "2024-02-06T08:27:00.939180Z"
    },
    "papermill": {
     "duration": 0.060055,
     "end_time": "2024-02-06T08:27:00.943683",
     "exception": false,
     "start_time": "2024-02-06T08:27:00.883628",
     "status": "completed"
    },
    "tags": []
   },
   "outputs": [
    {
     "name": "stdout",
     "output_type": "stream",
     "text": [
      "<class 'pandas.core.frame.DataFrame'>\n",
      "RangeIndex: 891 entries, 0 to 890\n",
      "Data columns (total 9 columns):\n",
      " #   Column     Non-Null Count  Dtype   \n",
      "---  ------     --------------  -----   \n",
      " 0   Survived   891 non-null    int64   \n",
      " 1   Pclass     891 non-null    int64   \n",
      " 2   Sex        891 non-null    object  \n",
      " 3   SibSp      891 non-null    int64   \n",
      " 4   Parch      891 non-null    int64   \n",
      " 5   Fare       891 non-null    float64 \n",
      " 6   Cabin      204 non-null    object  \n",
      " 7   Embarked   889 non-null    object  \n",
      " 8   Age_Group  891 non-null    category\n",
      "dtypes: category(1), float64(1), int64(4), object(3)\n",
      "memory usage: 56.9+ KB\n"
     ]
    },
    {
     "name": "stderr",
     "output_type": "stream",
     "text": [
      "/tmp/ipykernel_18/3111654932.py:2: FutureWarning: A value is trying to be set on a copy of a DataFrame or Series through chained assignment using an inplace method.\n",
      "The behavior will change in pandas 3.0. This inplace method will never work because the intermediate object on which we are setting values always behaves as a copy.\n",
      "\n",
      "For example, when doing 'df[col].method(value, inplace=True)', try using 'df.method({col: value}, inplace=True)' or df[col] = df[col].method(value) instead, to perform the operation inplace on the original object.\n",
      "\n",
      "\n",
      "  titanic_d['Age_Group'].fillna(titanic_d['Age_Group'].value_counts().idxmax(), inplace=True)\n"
     ]
    }
   ],
   "source": [
    "# let's fill the NaN values with the most frequent value, Youth, in Age group\n",
    "titanic_d['Age_Group'].fillna(titanic_d['Age_Group'].value_counts().idxmax(), inplace=True)\n",
    "titanic_d.info()"
   ]
  },
  {
   "cell_type": "code",
   "execution_count": 24,
   "id": "4fb040d9",
   "metadata": {
    "execution": {
     "iopub.execute_input": "2024-02-06T08:27:01.023603Z",
     "iopub.status.busy": "2024-02-06T08:27:01.023181Z",
     "iopub.status.idle": "2024-02-06T08:27:01.349599Z",
     "shell.execute_reply": "2024-02-06T08:27:01.348472Z"
    },
    "papermill": {
     "duration": 0.369178,
     "end_time": "2024-02-06T08:27:01.352090",
     "exception": false,
     "start_time": "2024-02-06T08:27:00.982912",
     "status": "completed"
    },
    "tags": []
   },
   "outputs": [
    {
     "name": "stderr",
     "output_type": "stream",
     "text": [
      "/opt/conda/lib/python3.10/site-packages/seaborn/categorical.py:641: FutureWarning: The default of observed=False is deprecated and will be changed to True in a future version of pandas. Pass observed=False to retain current behavior or observed=True to adopt the future default and silence this warning.\n",
      "  grouped_vals = vals.groupby(grouper)\n"
     ]
    },
    {
     "data": {
      "text/plain": [
       "<Axes: xlabel='Age_Group', ylabel='Survived'>"
      ]
     },
     "execution_count": 24,
     "metadata": {},
     "output_type": "execute_result"
    },
    {
     "data": {
      "image/png": "[encoded data removed]",
      "text/plain": [
       "<Figure size 640x480 with 1 Axes>"
      ]
     },
     "metadata": {},
     "output_type": "display_data"
    }
   ],
   "source": [
    "#Let's see the Age group and survival in a barplot\n",
    "sns.barplot(titanic_d, x=\"Age_Group\", y=\"Survived\")"
   ]
  },
  {
   "cell_type": "code",
   "execution_count": 25,
   "id": "d6ac5204",
   "metadata": {
    "execution": {
     "iopub.execute_input": "2024-02-06T08:27:01.435409Z",
     "iopub.status.busy": "2024-02-06T08:27:01.434969Z",
     "iopub.status.idle": "2024-02-06T08:27:01.441728Z",
     "shell.execute_reply": "2024-02-06T08:27:01.440498Z"
    },
    "papermill": {
     "duration": 0.052238,
     "end_time": "2024-02-06T08:27:01.444183",
     "exception": false,
     "start_time": "2024-02-06T08:27:01.391945",
     "status": "completed"
    },
    "tags": []
   },
   "outputs": [],
   "source": [
    "# Encode the category data type using LabelEncoder\n",
    "from sklearn.preprocessing import LabelEncoder\n",
    "\n",
    "le = LabelEncoder()\n",
    "titanic_d.Age_Group = le.fit_transform(titanic_d.Age_Group.values)"
   ]
  },
  {
   "cell_type": "code",
   "execution_count": 26,
   "id": "31b26087",
   "metadata": {
    "execution": {
     "iopub.execute_input": "2024-02-06T08:27:01.525916Z",
     "iopub.status.busy": "2024-02-06T08:27:01.525535Z",
     "iopub.status.idle": "2024-02-06T08:27:01.536111Z",
     "shell.execute_reply": "2024-02-06T08:27:01.534976Z"
    },
    "papermill": {
     "duration": 0.053897,
     "end_time": "2024-02-06T08:27:01.538553",
     "exception": false,
     "start_time": "2024-02-06T08:27:01.484656",
     "status": "completed"
    },
    "tags": []
   },
   "outputs": [
    {
     "data": {
      "text/plain": [
       "Age_Group\n",
       "3    615\n",
       "0    137\n",
       "1    113\n",
       "2     26\n",
       "Name: count, dtype: int64"
      ]
     },
     "execution_count": 26,
     "metadata": {},
     "output_type": "execute_result"
    }
   ],
   "source": [
    "titanic_d['Age_Group'].value_counts()"
   ]
  },
  {
   "cell_type": "markdown",
   "id": "a56715fa",
   "metadata": {
    "papermill": {
     "duration": 0.039405,
     "end_time": "2024-02-06T08:27:01.617371",
     "exception": false,
     "start_time": "2024-02-06T08:27:01.577966",
     "status": "completed"
    },
    "tags": []
   },
   "source": [
    "We can match those values like belows\n",
    "> 0: Middle-age\\\n",
    "  1: Minors\\\n",
    "  2: Seniors\\\n",
    "  3: Youth"
   ]
  },
  {
   "cell_type": "markdown",
   "id": "9e1fc6a7",
   "metadata": {
    "papermill": {
     "duration": 0.039997,
     "end_time": "2024-02-06T08:27:01.696473",
     "exception": false,
     "start_time": "2024-02-06T08:27:01.656476",
     "status": "completed"
    },
    "tags": []
   },
   "source": [
    "#### **4.2. Cabin**"
   ]
  },
  {
   "cell_type": "code",
   "execution_count": 27,
   "id": "9a528e3f",
   "metadata": {
    "execution": {
     "iopub.execute_input": "2024-02-06T08:27:01.777883Z",
     "iopub.status.busy": "2024-02-06T08:27:01.777499Z",
     "iopub.status.idle": "2024-02-06T08:27:01.785937Z",
     "shell.execute_reply": "2024-02-06T08:27:01.784728Z"
    },
    "papermill": {
     "duration": 0.051841,
     "end_time": "2024-02-06T08:27:01.788204",
     "exception": false,
     "start_time": "2024-02-06T08:27:01.736363",
     "status": "completed"
    },
    "tags": []
   },
   "outputs": [
    {
     "data": {
      "text/plain": [
       "Index(['Survived', 'Pclass', 'Sex', 'SibSp', 'Parch', 'Fare', 'Embarked',\n",
       "       'Age_Group'],\n",
       "      dtype='object')"
      ]
     },
     "execution_count": 27,
     "metadata": {},
     "output_type": "execute_result"
    }
   ],
   "source": [
    "#As the NaN values in Cabin columns is more than 70%, let's drop this column\n",
    "\n",
    "titanic_d.drop(['Cabin'], axis=1, inplace=True)\n",
    "titanic_d.columns"
   ]
  },
  {
   "cell_type": "markdown",
   "id": "ba9f31db",
   "metadata": {
    "papermill": {
     "duration": 0.039784,
     "end_time": "2024-02-06T08:27:01.867051",
     "exception": false,
     "start_time": "2024-02-06T08:27:01.827267",
     "status": "completed"
    },
    "tags": []
   },
   "source": [
    "#### **4.3. Sex**"
   ]
  },
  {
   "cell_type": "markdown",
   "id": "fd08ca58",
   "metadata": {
    "papermill": {
     "duration": 0.03938,
     "end_time": "2024-02-06T08:27:01.946593",
     "exception": false,
     "start_time": "2024-02-06T08:27:01.907213",
     "status": "completed"
    },
    "tags": []
   },
   "source": [
    "**As the valeus in Sex columns are the type of object, it needs to be encoded into numeric values**"
   ]
  },
  {
   "cell_type": "code",
   "execution_count": 28,
   "id": "d705f7cf",
   "metadata": {
    "execution": {
     "iopub.execute_input": "2024-02-06T08:27:02.028370Z",
     "iopub.status.busy": "2024-02-06T08:27:02.027976Z",
     "iopub.status.idle": "2024-02-06T08:27:02.035801Z",
     "shell.execute_reply": "2024-02-06T08:27:02.034887Z"
    },
    "papermill": {
     "duration": 0.051832,
     "end_time": "2024-02-06T08:27:02.037734",
     "exception": false,
     "start_time": "2024-02-06T08:27:01.985902",
     "status": "completed"
    },
    "tags": []
   },
   "outputs": [
    {
     "data": {
      "text/plain": [
       "Sex\n",
       "male      577\n",
       "female    314\n",
       "Name: count, dtype: int64"
      ]
     },
     "execution_count": 28,
     "metadata": {},
     "output_type": "execute_result"
    }
   ],
   "source": [
    "titanic_d['Sex'].value_counts()"
   ]
  },
  {
   "cell_type": "code",
   "execution_count": 29,
   "id": "fa9f9c4d",
   "metadata": {
    "execution": {
     "iopub.execute_input": "2024-02-06T08:27:02.119115Z",
     "iopub.status.busy": "2024-02-06T08:27:02.118665Z",
     "iopub.status.idle": "2024-02-06T08:27:02.124663Z",
     "shell.execute_reply": "2024-02-06T08:27:02.123559Z"
    },
    "papermill": {
     "duration": 0.049728,
     "end_time": "2024-02-06T08:27:02.127029",
     "exception": false,
     "start_time": "2024-02-06T08:27:02.077301",
     "status": "completed"
    },
    "tags": []
   },
   "outputs": [],
   "source": [
    "# Encode the category data type using LabelEncoder\n",
    "\n",
    "titanic_d.Sex = le.fit_transform(titanic_d.Sex.values)"
   ]
  },
  {
   "cell_type": "code",
   "execution_count": 30,
   "id": "c7625bc8",
   "metadata": {
    "execution": {
     "iopub.execute_input": "2024-02-06T08:27:02.210936Z",
     "iopub.status.busy": "2024-02-06T08:27:02.210515Z",
     "iopub.status.idle": "2024-02-06T08:27:02.218980Z",
     "shell.execute_reply": "2024-02-06T08:27:02.217706Z"
    },
    "papermill": {
     "duration": 0.052164,
     "end_time": "2024-02-06T08:27:02.221308",
     "exception": false,
     "start_time": "2024-02-06T08:27:02.169144",
     "status": "completed"
    },
    "tags": []
   },
   "outputs": [
    {
     "data": {
      "text/plain": [
       "Sex\n",
       "1    577\n",
       "0    314\n",
       "Name: count, dtype: int64"
      ]
     },
     "execution_count": 30,
     "metadata": {},
     "output_type": "execute_result"
    }
   ],
   "source": [
    "titanic_d['Sex'].value_counts()"
   ]
  },
  {
   "cell_type": "markdown",
   "id": "8741c18a",
   "metadata": {
    "papermill": {
     "duration": 0.040818,
     "end_time": "2024-02-06T08:27:02.302704",
     "exception": false,
     "start_time": "2024-02-06T08:27:02.261886",
     "status": "completed"
    },
    "tags": []
   },
   "source": [
    "We can match those values like belows\n",
    "> 0: Female\\\n",
    "  1: Male"
   ]
  },
  {
   "cell_type": "code",
   "execution_count": 31,
   "id": "66940e76",
   "metadata": {
    "execution": {
     "iopub.execute_input": "2024-02-06T08:27:02.389688Z",
     "iopub.status.busy": "2024-02-06T08:27:02.389281Z",
     "iopub.status.idle": "2024-02-06T08:27:02.396305Z",
     "shell.execute_reply": "2024-02-06T08:27:02.395064Z"
    },
    "papermill": {
     "duration": 0.051524,
     "end_time": "2024-02-06T08:27:02.398806",
     "exception": false,
     "start_time": "2024-02-06T08:27:02.347282",
     "status": "completed"
    },
    "tags": []
   },
   "outputs": [
    {
     "data": {
      "text/plain": [
       "dtype('int64')"
      ]
     },
     "execution_count": 31,
     "metadata": {},
     "output_type": "execute_result"
    }
   ],
   "source": [
    "titanic_d['Sex'].dtype"
   ]
  },
  {
   "cell_type": "markdown",
   "id": "b5d770d8",
   "metadata": {
    "papermill": {
     "duration": 0.039623,
     "end_time": "2024-02-06T08:27:02.479898",
     "exception": false,
     "start_time": "2024-02-06T08:27:02.440275",
     "status": "completed"
    },
    "tags": []
   },
   "source": [
    "#### **4.4. Embarked**"
   ]
  },
  {
   "cell_type": "markdown",
   "id": "85b9f35c",
   "metadata": {
    "papermill": {
     "duration": 0.039959,
     "end_time": "2024-02-06T08:27:02.559759",
     "exception": false,
     "start_time": "2024-02-06T08:27:02.519800",
     "status": "completed"
    },
    "tags": []
   },
   "source": [
    "**Embarked column has NaN vlaue.\\\n",
    "And as the vlaues of Embarked are type of object, it needs to be encoded into numeric values**"
   ]
  },
  {
   "cell_type": "markdown",
   "id": "374ecdf4",
   "metadata": {
    "papermill": {
     "duration": 0.039631,
     "end_time": "2024-02-06T08:27:02.640067",
     "exception": false,
     "start_time": "2024-02-06T08:27:02.600436",
     "status": "completed"
    },
    "tags": []
   },
   "source": [
    "##### **4.4.1 Missing Values**"
   ]
  },
  {
   "cell_type": "code",
   "execution_count": 32,
   "id": "619e807c",
   "metadata": {
    "execution": {
     "iopub.execute_input": "2024-02-06T08:27:02.721840Z",
     "iopub.status.busy": "2024-02-06T08:27:02.721410Z",
     "iopub.status.idle": "2024-02-06T08:27:02.727863Z",
     "shell.execute_reply": "2024-02-06T08:27:02.727059Z"
    },
    "papermill": {
     "duration": 0.050054,
     "end_time": "2024-02-06T08:27:02.729924",
     "exception": false,
     "start_time": "2024-02-06T08:27:02.679870",
     "status": "completed"
    },
    "tags": []
   },
   "outputs": [
    {
     "data": {
      "text/plain": [
       "Index(['Survived', 'Pclass', 'Sex', 'SibSp', 'Parch', 'Fare', 'Embarked',\n",
       "       'Age_Group'],\n",
       "      dtype='object')"
      ]
     },
     "execution_count": 32,
     "metadata": {},
     "output_type": "execute_result"
    }
   ],
   "source": [
    "titanic_d.columns"
   ]
  },
  {
   "cell_type": "code",
   "execution_count": 33,
   "id": "5541c5b0",
   "metadata": {
    "execution": {
     "iopub.execute_input": "2024-02-06T08:27:02.812954Z",
     "iopub.status.busy": "2024-02-06T08:27:02.812509Z",
     "iopub.status.idle": "2024-02-06T08:27:02.825814Z",
     "shell.execute_reply": "2024-02-06T08:27:02.824669Z"
    },
    "papermill": {
     "duration": 0.058044,
     "end_time": "2024-02-06T08:27:02.828094",
     "exception": false,
     "start_time": "2024-02-06T08:27:02.770050",
     "status": "completed"
    },
    "tags": []
   },
   "outputs": [
    {
     "data": {
      "text/plain": [
       "Survived     0\n",
       "Pclass       0\n",
       "Sex          0\n",
       "SibSp        0\n",
       "Parch        0\n",
       "Fare         0\n",
       "Embarked     0\n",
       "Age_Group    0\n",
       "dtype: int64"
      ]
     },
     "execution_count": 33,
     "metadata": {},
     "output_type": "execute_result"
    }
   ],
   "source": [
    "# Only 2 missing values (0.002%), so let's remove the rows with NaN in Embarked columns\n",
    "\n",
    "titanic_d = titanic_d.dropna(subset=['Embarked'])\n",
    "titanic_d.isnull().sum()"
   ]
  },
  {
   "cell_type": "code",
   "execution_count": 34,
   "id": "45417e12",
   "metadata": {
    "execution": {
     "iopub.execute_input": "2024-02-06T08:27:02.910373Z",
     "iopub.status.busy": "2024-02-06T08:27:02.909926Z",
     "iopub.status.idle": "2024-02-06T08:27:02.922605Z",
     "shell.execute_reply": "2024-02-06T08:27:02.921174Z"
    },
    "papermill": {
     "duration": 0.056672,
     "end_time": "2024-02-06T08:27:02.924919",
     "exception": false,
     "start_time": "2024-02-06T08:27:02.868247",
     "status": "completed"
    },
    "tags": []
   },
   "outputs": [
    {
     "name": "stdout",
     "output_type": "stream",
     "text": [
      "<class 'pandas.core.frame.DataFrame'>\n",
      "Index: 889 entries, 0 to 890\n",
      "Data columns (total 8 columns):\n",
      " #   Column     Non-Null Count  Dtype  \n",
      "---  ------     --------------  -----  \n",
      " 0   Survived   889 non-null    int64  \n",
      " 1   Pclass     889 non-null    int64  \n",
      " 2   Sex        889 non-null    int64  \n",
      " 3   SibSp      889 non-null    int64  \n",
      " 4   Parch      889 non-null    int64  \n",
      " 5   Fare       889 non-null    float64\n",
      " 6   Embarked   889 non-null    object \n",
      " 7   Age_Group  889 non-null    int64  \n",
      "dtypes: float64(1), int64(6), object(1)\n",
      "memory usage: 62.5+ KB\n"
     ]
    }
   ],
   "source": [
    "titanic_d.info()"
   ]
  },
  {
   "cell_type": "markdown",
   "id": "ff435702",
   "metadata": {
    "papermill": {
     "duration": 0.040031,
     "end_time": "2024-02-06T08:27:03.005129",
     "exception": false,
     "start_time": "2024-02-06T08:27:02.965098",
     "status": "completed"
    },
    "tags": []
   },
   "source": [
    "The missing values, total 2 rows, had been perfectly removed!"
   ]
  },
  {
   "cell_type": "markdown",
   "id": "ce4eb0f0",
   "metadata": {
    "papermill": {
     "duration": 0.039939,
     "end_time": "2024-02-06T08:27:03.085474",
     "exception": false,
     "start_time": "2024-02-06T08:27:03.045535",
     "status": "completed"
    },
    "tags": []
   },
   "source": [
    "##### **4.4.2 Object to Numerical Values**"
   ]
  },
  {
   "cell_type": "code",
   "execution_count": 35,
   "id": "cbe6d39d",
   "metadata": {
    "execution": {
     "iopub.execute_input": "2024-02-06T08:27:03.168585Z",
     "iopub.status.busy": "2024-02-06T08:27:03.168194Z",
     "iopub.status.idle": "2024-02-06T08:27:03.177520Z",
     "shell.execute_reply": "2024-02-06T08:27:03.176347Z"
    },
    "papermill": {
     "duration": 0.054338,
     "end_time": "2024-02-06T08:27:03.180011",
     "exception": false,
     "start_time": "2024-02-06T08:27:03.125673",
     "status": "completed"
    },
    "tags": []
   },
   "outputs": [
    {
     "data": {
      "text/plain": [
       "Embarked\n",
       "S    644\n",
       "C    168\n",
       "Q     77\n",
       "Name: count, dtype: int64"
      ]
     },
     "execution_count": 35,
     "metadata": {},
     "output_type": "execute_result"
    }
   ],
   "source": [
    "titanic_d['Embarked'].value_counts()"
   ]
  },
  {
   "cell_type": "code",
   "execution_count": 36,
   "id": "ca3fed32",
   "metadata": {
    "execution": {
     "iopub.execute_input": "2024-02-06T08:27:03.263784Z",
     "iopub.status.busy": "2024-02-06T08:27:03.263385Z",
     "iopub.status.idle": "2024-02-06T08:27:03.269332Z",
     "shell.execute_reply": "2024-02-06T08:27:03.268294Z"
    },
    "papermill": {
     "duration": 0.05074,
     "end_time": "2024-02-06T08:27:03.271661",
     "exception": false,
     "start_time": "2024-02-06T08:27:03.220921",
     "status": "completed"
    },
    "tags": []
   },
   "outputs": [],
   "source": [
    "titanic_d.Embarked = le.fit_transform(titanic_d.Embarked.values)"
   ]
  },
  {
   "cell_type": "code",
   "execution_count": 37,
   "id": "9b304599",
   "metadata": {
    "execution": {
     "iopub.execute_input": "2024-02-06T08:27:03.355134Z",
     "iopub.status.busy": "2024-02-06T08:27:03.354661Z",
     "iopub.status.idle": "2024-02-06T08:27:03.362360Z",
     "shell.execute_reply": "2024-02-06T08:27:03.361563Z"
    },
    "papermill": {
     "duration": 0.052455,
     "end_time": "2024-02-06T08:27:03.364705",
     "exception": false,
     "start_time": "2024-02-06T08:27:03.312250",
     "status": "completed"
    },
    "tags": []
   },
   "outputs": [
    {
     "data": {
      "text/plain": [
       "Embarked\n",
       "2    644\n",
       "0    168\n",
       "1     77\n",
       "Name: count, dtype: int64"
      ]
     },
     "execution_count": 37,
     "metadata": {},
     "output_type": "execute_result"
    }
   ],
   "source": [
    "titanic_d['Embarked'].value_counts()"
   ]
  },
  {
   "cell_type": "markdown",
   "id": "baa1282a",
   "metadata": {
    "papermill": {
     "duration": 0.042401,
     "end_time": "2024-02-06T08:27:03.447526",
     "exception": false,
     "start_time": "2024-02-06T08:27:03.405125",
     "status": "completed"
    },
    "tags": []
   },
   "source": [
    "We can match those values like belows\n",
    "> 0: C\\\n",
    "  1: Q\\\n",
    "  2: S"
   ]
  },
  {
   "cell_type": "markdown",
   "id": "db580385",
   "metadata": {
    "papermill": {
     "duration": 0.040462,
     "end_time": "2024-02-06T08:27:03.528697",
     "exception": false,
     "start_time": "2024-02-06T08:27:03.488235",
     "status": "completed"
    },
    "tags": []
   },
   "source": [
    "#### **Let's check one more time the values are changed well**"
   ]
  },
  {
   "cell_type": "code",
   "execution_count": 38,
   "id": "bdf1918e",
   "metadata": {
    "execution": {
     "iopub.execute_input": "2024-02-06T08:27:03.612766Z",
     "iopub.status.busy": "2024-02-06T08:27:03.612296Z",
     "iopub.status.idle": "2024-02-06T08:27:03.623714Z",
     "shell.execute_reply": "2024-02-06T08:27:03.622524Z"
    },
    "papermill": {
     "duration": 0.056765,
     "end_time": "2024-02-06T08:27:03.626374",
     "exception": false,
     "start_time": "2024-02-06T08:27:03.569609",
     "status": "completed"
    },
    "tags": []
   },
   "outputs": [
    {
     "name": "stdout",
     "output_type": "stream",
     "text": [
      "<class 'pandas.core.frame.DataFrame'>\n",
      "Index: 889 entries, 0 to 890\n",
      "Data columns (total 8 columns):\n",
      " #   Column     Non-Null Count  Dtype  \n",
      "---  ------     --------------  -----  \n",
      " 0   Survived   889 non-null    int64  \n",
      " 1   Pclass     889 non-null    int64  \n",
      " 2   Sex        889 non-null    int64  \n",
      " 3   SibSp      889 non-null    int64  \n",
      " 4   Parch      889 non-null    int64  \n",
      " 5   Fare       889 non-null    float64\n",
      " 6   Embarked   889 non-null    int64  \n",
      " 7   Age_Group  889 non-null    int64  \n",
      "dtypes: float64(1), int64(7)\n",
      "memory usage: 62.5 KB\n"
     ]
    }
   ],
   "source": [
    "titanic_d.info()"
   ]
  },
  {
   "cell_type": "markdown",
   "id": "d7670195",
   "metadata": {
    "papermill": {
     "duration": 0.040636,
     "end_time": "2024-02-06T08:27:03.707790",
     "exception": false,
     "start_time": "2024-02-06T08:27:03.667154",
     "status": "completed"
    },
    "tags": []
   },
   "source": [
    "There is no data type of object ! \\\n",
    "But I think it would be better to change all the data values to float for ML"
   ]
  },
  {
   "cell_type": "code",
   "execution_count": 39,
   "id": "507f4185",
   "metadata": {
    "execution": {
     "iopub.execute_input": "2024-02-06T08:27:03.791328Z",
     "iopub.status.busy": "2024-02-06T08:27:03.790903Z",
     "iopub.status.idle": "2024-02-06T08:27:03.802328Z",
     "shell.execute_reply": "2024-02-06T08:27:03.801514Z"
    },
    "papermill": {
     "duration": 0.055608,
     "end_time": "2024-02-06T08:27:03.804633",
     "exception": false,
     "start_time": "2024-02-06T08:27:03.749025",
     "status": "completed"
    },
    "tags": []
   },
   "outputs": [
    {
     "name": "stdout",
     "output_type": "stream",
     "text": [
      "<class 'pandas.core.frame.DataFrame'>\n",
      "Index: 889 entries, 0 to 890\n",
      "Data columns (total 8 columns):\n",
      " #   Column     Non-Null Count  Dtype  \n",
      "---  ------     --------------  -----  \n",
      " 0   Survived   889 non-null    float64\n",
      " 1   Pclass     889 non-null    float64\n",
      " 2   Sex        889 non-null    float64\n",
      " 3   SibSp      889 non-null    float64\n",
      " 4   Parch      889 non-null    float64\n",
      " 5   Fare       889 non-null    float64\n",
      " 6   Embarked   889 non-null    float64\n",
      " 7   Age_Group  889 non-null    float64\n",
      "dtypes: float64(8)\n",
      "memory usage: 62.5 KB\n"
     ]
    }
   ],
   "source": [
    "train = titanic_d.astype(float)\n",
    "train.info()"
   ]
  },
  {
   "cell_type": "markdown",
   "id": "28136aba",
   "metadata": {
    "papermill": {
     "duration": 0.04074,
     "end_time": "2024-02-06T08:27:03.887306",
     "exception": false,
     "start_time": "2024-02-06T08:27:03.846566",
     "status": "completed"
    },
    "tags": []
   },
   "source": [
    "# 5. Split tain dataset using train_test_split"
   ]
  },
  {
   "cell_type": "code",
   "execution_count": 40,
   "id": "d2f102e2",
   "metadata": {
    "execution": {
     "iopub.execute_input": "2024-02-06T08:27:03.970956Z",
     "iopub.status.busy": "2024-02-06T08:27:03.970569Z",
     "iopub.status.idle": "2024-02-06T08:27:03.976508Z",
     "shell.execute_reply": "2024-02-06T08:27:03.975514Z"
    },
    "papermill": {
     "duration": 0.050524,
     "end_time": "2024-02-06T08:27:03.978724",
     "exception": false,
     "start_time": "2024-02-06T08:27:03.928200",
     "status": "completed"
    },
    "tags": []
   },
   "outputs": [],
   "source": [
    "#Let's split the dataset into independant and dependant values\n",
    "\n",
    "features = train.drop(columns='Survived', axis=1)\n",
    "Y = train['Survived']"
   ]
  },
  {
   "cell_type": "code",
   "execution_count": 41,
   "id": "cc2d39bd",
   "metadata": {
    "execution": {
     "iopub.execute_input": "2024-02-06T08:27:04.062328Z",
     "iopub.status.busy": "2024-02-06T08:27:04.061877Z",
     "iopub.status.idle": "2024-02-06T08:27:04.080598Z",
     "shell.execute_reply": "2024-02-06T08:27:04.079485Z"
    },
    "papermill": {
     "duration": 0.063147,
     "end_time": "2024-02-06T08:27:04.082942",
     "exception": false,
     "start_time": "2024-02-06T08:27:04.019795",
     "status": "completed"
    },
    "tags": []
   },
   "outputs": [
    {
     "data": {
      "text/html": [
       "<div>\n",
       "<style scoped>\n",
       "    .dataframe tbody tr th:only-of-type {\n",
       "        vertical-align: middle;\n",
       "    }\n",
       "\n",
       "    .dataframe tbody tr th {\n",
       "        vertical-align: top;\n",
       "    }\n",
       "\n",
       "    .dataframe thead th {\n",
       "        text-align: right;\n",
       "    }\n",
       "</style>\n",
       "<table border=\"1\" class=\"dataframe\">\n",
       "  <thead>\n",
       "    <tr style=\"text-align: right;\">\n",
       "      <th></th>\n",
       "      <th>Pclass</th>\n",
       "      <th>Sex</th>\n",
       "      <th>SibSp</th>\n",
       "      <th>Parch</th>\n",
       "      <th>Fare</th>\n",
       "      <th>Embarked</th>\n",
       "      <th>Age_Group</th>\n",
       "    </tr>\n",
       "  </thead>\n",
       "  <tbody>\n",
       "    <tr>\n",
       "      <th>0</th>\n",
       "      <td>3.0</td>\n",
       "      <td>1.0</td>\n",
       "      <td>1.0</td>\n",
       "      <td>0.0</td>\n",
       "      <td>7.2500</td>\n",
       "      <td>2.0</td>\n",
       "      <td>3.0</td>\n",
       "    </tr>\n",
       "    <tr>\n",
       "      <th>1</th>\n",
       "      <td>1.0</td>\n",
       "      <td>0.0</td>\n",
       "      <td>1.0</td>\n",
       "      <td>0.0</td>\n",
       "      <td>71.2833</td>\n",
       "      <td>0.0</td>\n",
       "      <td>3.0</td>\n",
       "    </tr>\n",
       "    <tr>\n",
       "      <th>2</th>\n",
       "      <td>3.0</td>\n",
       "      <td>0.0</td>\n",
       "      <td>0.0</td>\n",
       "      <td>0.0</td>\n",
       "      <td>7.9250</td>\n",
       "      <td>2.0</td>\n",
       "      <td>3.0</td>\n",
       "    </tr>\n",
       "    <tr>\n",
       "      <th>3</th>\n",
       "      <td>1.0</td>\n",
       "      <td>0.0</td>\n",
       "      <td>1.0</td>\n",
       "      <td>0.0</td>\n",
       "      <td>53.1000</td>\n",
       "      <td>2.0</td>\n",
       "      <td>3.0</td>\n",
       "    </tr>\n",
       "    <tr>\n",
       "      <th>4</th>\n",
       "      <td>3.0</td>\n",
       "      <td>1.0</td>\n",
       "      <td>0.0</td>\n",
       "      <td>0.0</td>\n",
       "      <td>8.0500</td>\n",
       "      <td>2.0</td>\n",
       "      <td>3.0</td>\n",
       "    </tr>\n",
       "  </tbody>\n",
       "</table>\n",
       "</div>"
      ],
      "text/plain": [
       "   Pclass  Sex  SibSp  Parch     Fare  Embarked  Age_Group\n",
       "0     3.0  1.0    1.0    0.0   7.2500       2.0        3.0\n",
       "1     1.0  0.0    1.0    0.0  71.2833       0.0        3.0\n",
       "2     3.0  0.0    0.0    0.0   7.9250       2.0        3.0\n",
       "3     1.0  0.0    1.0    0.0  53.1000       2.0        3.0\n",
       "4     3.0  1.0    0.0    0.0   8.0500       2.0        3.0"
      ]
     },
     "execution_count": 41,
     "metadata": {},
     "output_type": "execute_result"
    }
   ],
   "source": [
    "features.head()"
   ]
  },
  {
   "cell_type": "code",
   "execution_count": 42,
   "id": "aa295aae",
   "metadata": {
    "execution": {
     "iopub.execute_input": "2024-02-06T08:27:04.167646Z",
     "iopub.status.busy": "2024-02-06T08:27:04.167215Z",
     "iopub.status.idle": "2024-02-06T08:27:04.175658Z",
     "shell.execute_reply": "2024-02-06T08:27:04.174544Z"
    },
    "papermill": {
     "duration": 0.053891,
     "end_time": "2024-02-06T08:27:04.177955",
     "exception": false,
     "start_time": "2024-02-06T08:27:04.124064",
     "status": "completed"
    },
    "tags": []
   },
   "outputs": [
    {
     "data": {
      "text/plain": [
       "0    0.0\n",
       "1    1.0\n",
       "2    1.0\n",
       "3    1.0\n",
       "4    0.0\n",
       "Name: Survived, dtype: float64"
      ]
     },
     "execution_count": 42,
     "metadata": {},
     "output_type": "execute_result"
    }
   ],
   "source": [
    "Y.head()"
   ]
  },
  {
   "cell_type": "code",
   "execution_count": 43,
   "id": "9d4e0a96",
   "metadata": {
    "execution": {
     "iopub.execute_input": "2024-02-06T08:27:04.263027Z",
     "iopub.status.busy": "2024-02-06T08:27:04.262571Z",
     "iopub.status.idle": "2024-02-06T08:27:04.270685Z",
     "shell.execute_reply": "2024-02-06T08:27:04.269897Z"
    },
    "papermill": {
     "duration": 0.053589,
     "end_time": "2024-02-06T08:27:04.273026",
     "exception": false,
     "start_time": "2024-02-06T08:27:04.219437",
     "status": "completed"
    },
    "tags": []
   },
   "outputs": [
    {
     "name": "stdout",
     "output_type": "stream",
     "text": [
      "The size of train set: (711, 7)\n",
      "The size of test set: (178, 7)\n"
     ]
    }
   ],
   "source": [
    "#Let's split it using train_test_split with 0.2 test size\n",
    "x_train, x_test, y_train, y_test = train_test_split(features, Y, test_size=0.2, random_state=42)\n",
    "print(f\"The size of train set: {x_train.shape}\")\n",
    "print(f\"The size of test set: {x_test.shape}\")"
   ]
  },
  {
   "cell_type": "markdown",
   "id": "d1790a89",
   "metadata": {
    "papermill": {
     "duration": 0.041034,
     "end_time": "2024-02-06T08:27:04.355590",
     "exception": false,
     "start_time": "2024-02-06T08:27:04.314556",
     "status": "completed"
    },
    "tags": []
   },
   "source": [
    "# 6. Modeling and Training Dataset"
   ]
  },
  {
   "cell_type": "markdown",
   "id": "32e74ca5",
   "metadata": {
    "papermill": {
     "duration": 0.043469,
     "end_time": "2024-02-06T08:27:04.441266",
     "exception": false,
     "start_time": "2024-02-06T08:27:04.397797",
     "status": "completed"
    },
    "tags": []
   },
   "source": [
    "## 6.1. Linear Regression"
   ]
  },
  {
   "cell_type": "markdown",
   "id": "2c9e03b9",
   "metadata": {
    "papermill": {
     "duration": 0.041249,
     "end_time": "2024-02-06T08:27:04.524101",
     "exception": false,
     "start_time": "2024-02-06T08:27:04.482852",
     "status": "completed"
    },
    "tags": []
   },
   "source": [
    "#### **6.1.1 Model training**"
   ]
  },
  {
   "cell_type": "code",
   "execution_count": 44,
   "id": "00dfd3ae",
   "metadata": {
    "execution": {
     "iopub.execute_input": "2024-02-06T08:27:04.608600Z",
     "iopub.status.busy": "2024-02-06T08:27:04.608168Z",
     "iopub.status.idle": "2024-02-06T08:27:04.641827Z",
     "shell.execute_reply": "2024-02-06T08:27:04.641060Z"
    },
    "papermill": {
     "duration": 0.078746,
     "end_time": "2024-02-06T08:27:04.644176",
     "exception": false,
     "start_time": "2024-02-06T08:27:04.565430",
     "status": "completed"
    },
    "tags": []
   },
   "outputs": [
    {
     "data": {
      "text/html": [
       "<style>#sk-container-id-1 {color: black;background-color: white;}#sk-container-id-1 pre{padding: 0;}#sk-container-id-1 div.sk-toggleable {background-color: white;}#sk-container-id-1 label.sk-toggleable__label {cursor: pointer;display: block;width: 100%;margin-bottom: 0;padding: 0.3em;box-sizing: border-box;text-align: center;}#sk-container-id-1 label.sk-toggleable__label-arrow:before {content: \"▸\";float: left;margin-right: 0.25em;color: #696969;}#sk-container-id-1 label.sk-toggleable__label-arrow:hover:before {color: black;}#sk-container-id-1 div.sk-estimator:hover label.sk-toggleable__label-arrow:before {color: black;}#sk-container-id-1 div.sk-toggleable__content {max-height: 0;max-width: 0;overflow: hidden;text-align: left;background-color: #f0f8ff;}#sk-container-id-1 div.sk-toggleable__content pre {margin: 0.2em;color: black;border-radius: 0.25em;background-color: #f0f8ff;}#sk-container-id-1 input.sk-toggleable__control:checked~div.sk-toggleable__content {max-height: 200px;max-width: 100%;overflow: auto;}#sk-container-id-1 input.sk-toggleable__control:checked~label.sk-toggleable__label-arrow:before {content: \"▾\";}#sk-container-id-1 div.sk-estimator input.sk-toggleable__control:checked~label.sk-toggleable__label {background-color: #d4ebff;}#sk-container-id-1 div.sk-label input.sk-toggleable__control:checked~label.sk-toggleable__label {background-color: #d4ebff;}#sk-container-id-1 input.sk-hidden--visually {border: 0;clip: rect(1px 1px 1px 1px);clip: rect(1px, 1px, 1px, 1px);height: 1px;margin: -1px;overflow: hidden;padding: 0;position: absolute;width: 1px;}#sk-container-id-1 div.sk-estimator {font-family: monospace;background-color: #f0f8ff;border: 1px dotted black;border-radius: 0.25em;box-sizing: border-box;margin-bottom: 0.5em;}#sk-container-id-1 div.sk-estimator:hover {background-color: #d4ebff;}#sk-container-id-1 div.sk-parallel-item::after {content: \"\";width: 100%;border-bottom: 1px solid gray;flex-grow: 1;}#sk-container-id-1 div.sk-label:hover label.sk-toggleable__label {background-color: #d4ebff;}#sk-container-id-1 div.sk-serial::before {content: \"\";position: absolute;border-left: 1px solid gray;box-sizing: border-box;top: 0;bottom: 0;left: 50%;z-index: 0;}#sk-container-id-1 div.sk-serial {display: flex;flex-direction: column;align-items: center;background-color: white;padding-right: 0.2em;padding-left: 0.2em;position: relative;}#sk-container-id-1 div.sk-item {position: relative;z-index: 1;}#sk-container-id-1 div.sk-parallel {display: flex;align-items: stretch;justify-content: center;background-color: white;position: relative;}#sk-container-id-1 div.sk-item::before, #sk-container-id-1 div.sk-parallel-item::before {content: \"\";position: absolute;border-left: 1px solid gray;box-sizing: border-box;top: 0;bottom: 0;left: 50%;z-index: -1;}#sk-container-id-1 div.sk-parallel-item {display: flex;flex-direction: column;z-index: 1;position: relative;background-color: white;}#sk-container-id-1 div.sk-parallel-item:first-child::after {align-self: flex-end;width: 50%;}#sk-container-id-1 div.sk-parallel-item:last-child::after {align-self: flex-start;width: 50%;}#sk-container-id-1 div.sk-parallel-item:only-child::after {width: 0;}#sk-container-id-1 div.sk-dashed-wrapped {border: 1px dashed gray;margin: 0 0.4em 0.5em 0.4em;box-sizing: border-box;padding-bottom: 0.4em;background-color: white;}#sk-container-id-1 div.sk-label label {font-family: monospace;font-weight: bold;display: inline-block;line-height: 1.2em;}#sk-container-id-1 div.sk-label-container {text-align: center;}#sk-container-id-1 div.sk-container {/* jupyter's `normalize.less` sets `[hidden] { display: none; }` but bootstrap.min.css set `[hidden] { display: none !important; }` so we also need the `!important` here to be able to override the default hidden behavior on the sphinx rendered scikit-learn.org. See: https://github.com/scikit-learn/scikit-learn/issues/21755 */display: inline-block !important;position: relative;}#sk-container-id-1 div.sk-text-repr-fallback {display: none;}</style><div id=\"sk-container-id-1\" class=\"sk-top-container\"><div class=\"sk-text-repr-fallback\"><pre>LinearRegression()</pre><b>In a Jupyter environment, please rerun this cell to show the HTML representation or trust the notebook. <br />On GitHub, the HTML representation is unable to render, please try loading this page with nbviewer.org.</b></div><div class=\"sk-container\" hidden><div class=\"sk-item\"><div class=\"sk-estimator sk-toggleable\"><input class=\"sk-toggleable__control sk-hidden--visually\" id=\"sk-estimator-id-1\" type=\"checkbox\" checked><label for=\"sk-estimator-id-1\" class=\"sk-toggleable__label sk-toggleable__label-arrow\">LinearRegression</label><div class=\"sk-toggleable__content\"><pre>LinearRegression()</pre></div></div></div></div></div>"
      ],
      "text/plain": [
       "LinearRegression()"
      ]
     },
     "execution_count": 44,
     "metadata": {},
     "output_type": "execute_result"
    }
   ],
   "source": [
    "LR = LinearRegression()\n",
    "LR.fit(x_train, y_train)"
   ]
  },
  {
   "cell_type": "code",
   "execution_count": 45,
   "id": "e8cd6adb",
   "metadata": {
    "execution": {
     "iopub.execute_input": "2024-02-06T08:27:04.733019Z",
     "iopub.status.busy": "2024-02-06T08:27:04.732601Z",
     "iopub.status.idle": "2024-02-06T08:27:04.739747Z",
     "shell.execute_reply": "2024-02-06T08:27:04.738404Z"
    },
    "papermill": {
     "duration": 0.053933,
     "end_time": "2024-02-06T08:27:04.742261",
     "exception": false,
     "start_time": "2024-02-06T08:27:04.688328",
     "status": "completed"
    },
    "tags": []
   },
   "outputs": [],
   "source": [
    "predicts = LR.predict(x_test)"
   ]
  },
  {
   "cell_type": "markdown",
   "id": "eca3045e",
   "metadata": {
    "papermill": {
     "duration": 0.041868,
     "end_time": "2024-02-06T08:27:04.826391",
     "exception": false,
     "start_time": "2024-02-06T08:27:04.784523",
     "status": "completed"
    },
    "tags": []
   },
   "source": [
    "#### **6.1.2 Evaluation**"
   ]
  },
  {
   "cell_type": "code",
   "execution_count": 46,
   "id": "bdd7528b",
   "metadata": {
    "execution": {
     "iopub.execute_input": "2024-02-06T08:27:04.912305Z",
     "iopub.status.busy": "2024-02-06T08:27:04.911895Z",
     "iopub.status.idle": "2024-02-06T08:27:04.916904Z",
     "shell.execute_reply": "2024-02-06T08:27:04.915705Z"
    },
    "papermill": {
     "duration": 0.050676,
     "end_time": "2024-02-06T08:27:04.919144",
     "exception": false,
     "start_time": "2024-02-06T08:27:04.868468",
     "status": "completed"
    },
    "tags": []
   },
   "outputs": [],
   "source": [
    "from sklearn.metrics import mean_absolute_error, mean_squared_error, r2_score"
   ]
  },
  {
   "cell_type": "code",
   "execution_count": 47,
   "id": "2a9cdd23",
   "metadata": {
    "execution": {
     "iopub.execute_input": "2024-02-06T08:27:05.005049Z",
     "iopub.status.busy": "2024-02-06T08:27:05.004292Z",
     "iopub.status.idle": "2024-02-06T08:27:05.013859Z",
     "shell.execute_reply": "2024-02-06T08:27:05.012760Z"
    },
    "papermill": {
     "duration": 0.05533,
     "end_time": "2024-02-06T08:27:05.016265",
     "exception": false,
     "start_time": "2024-02-06T08:27:04.960935",
     "status": "completed"
    },
    "tags": []
   },
   "outputs": [
    {
     "name": "stdout",
     "output_type": "stream",
     "text": [
      "MAE is 0.2978523438262751\n",
      "MSE is 0.14634413645003172\n",
      "RMSE is 0.38254952156555067\n",
      "R2 socre is 0.38349054390602255\n"
     ]
    }
   ],
   "source": [
    "LR_MAE = mean_absolute_error(y_test, predicts)\n",
    "LR_MSE = mean_squared_error(y_test, predicts)\n",
    "LR_RMSE = mean_squared_error(y_test, predicts, squared=False)\n",
    "LR_R2 = r2_score(y_test, predicts)\n",
    "\n",
    "print(\"MAE is\", LR_MAE)\n",
    "print(\"MSE is\", LR_MSE)\n",
    "print(\"RMSE is\", LR_RMSE)\n",
    "print(\"R2 socre is\", LR_R2)"
   ]
  },
  {
   "cell_type": "markdown",
   "id": "f7df2f0a",
   "metadata": {
    "papermill": {
     "duration": 0.042014,
     "end_time": "2024-02-06T08:27:05.100334",
     "exception": false,
     "start_time": "2024-02-06T08:27:05.058320",
     "status": "completed"
    },
    "tags": []
   },
   "source": [
    "It seems that Linear Regression has not good evaluation.\\\n",
    "Let's try other models "
   ]
  },
  {
   "cell_type": "markdown",
   "id": "9b064e0c",
   "metadata": {
    "papermill": {
     "duration": 0.042543,
     "end_time": "2024-02-06T08:27:05.184899",
     "exception": false,
     "start_time": "2024-02-06T08:27:05.142356",
     "status": "completed"
    },
    "tags": []
   },
   "source": [
    "## 6.2. Decision Tree"
   ]
  },
  {
   "cell_type": "markdown",
   "id": "275d8392",
   "metadata": {
    "papermill": {
     "duration": 0.042134,
     "end_time": "2024-02-06T08:27:05.269385",
     "exception": false,
     "start_time": "2024-02-06T08:27:05.227251",
     "status": "completed"
    },
    "tags": []
   },
   "source": [
    "#### **6.2.1 Model training**"
   ]
  },
  {
   "cell_type": "code",
   "execution_count": 48,
   "id": "ba5a6352",
   "metadata": {
    "execution": {
     "iopub.execute_input": "2024-02-06T08:27:05.356871Z",
     "iopub.status.busy": "2024-02-06T08:27:05.356424Z",
     "iopub.status.idle": "2024-02-06T08:27:05.372249Z",
     "shell.execute_reply": "2024-02-06T08:27:05.371021Z"
    },
    "papermill": {
     "duration": 0.063272,
     "end_time": "2024-02-06T08:27:05.374706",
     "exception": false,
     "start_time": "2024-02-06T08:27:05.311434",
     "status": "completed"
    },
    "tags": []
   },
   "outputs": [
    {
     "data": {
      "text/html": [
       "<style>#sk-container-id-2 {color: black;background-color: white;}#sk-container-id-2 pre{padding: 0;}#sk-container-id-2 div.sk-toggleable {background-color: white;}#sk-container-id-2 label.sk-toggleable__label {cursor: pointer;display: block;width: 100%;margin-bottom: 0;padding: 0.3em;box-sizing: border-box;text-align: center;}#sk-container-id-2 label.sk-toggleable__label-arrow:before {content: \"▸\";float: left;margin-right: 0.25em;color: #696969;}#sk-container-id-2 label.sk-toggleable__label-arrow:hover:before {color: black;}#sk-container-id-2 div.sk-estimator:hover label.sk-toggleable__label-arrow:before {color: black;}#sk-container-id-2 div.sk-toggleable__content {max-height: 0;max-width: 0;overflow: hidden;text-align: left;background-color: #f0f8ff;}#sk-container-id-2 div.sk-toggleable__content pre {margin: 0.2em;color: black;border-radius: 0.25em;background-color: #f0f8ff;}#sk-container-id-2 input.sk-toggleable__control:checked~div.sk-toggleable__content {max-height: 200px;max-width: 100%;overflow: auto;}#sk-container-id-2 input.sk-toggleable__control:checked~label.sk-toggleable__label-arrow:before {content: \"▾\";}#sk-container-id-2 div.sk-estimator input.sk-toggleable__control:checked~label.sk-toggleable__label {background-color: #d4ebff;}#sk-container-id-2 div.sk-label input.sk-toggleable__control:checked~label.sk-toggleable__label {background-color: #d4ebff;}#sk-container-id-2 input.sk-hidden--visually {border: 0;clip: rect(1px 1px 1px 1px);clip: rect(1px, 1px, 1px, 1px);height: 1px;margin: -1px;overflow: hidden;padding: 0;position: absolute;width: 1px;}#sk-container-id-2 div.sk-estimator {font-family: monospace;background-color: #f0f8ff;border: 1px dotted black;border-radius: 0.25em;box-sizing: border-box;margin-bottom: 0.5em;}#sk-container-id-2 div.sk-estimator:hover {background-color: #d4ebff;}#sk-container-id-2 div.sk-parallel-item::after {content: \"\";width: 100%;border-bottom: 1px solid gray;flex-grow: 1;}#sk-container-id-2 div.sk-label:hover label.sk-toggleable__label {background-color: #d4ebff;}#sk-container-id-2 div.sk-serial::before {content: \"\";position: absolute;border-left: 1px solid gray;box-sizing: border-box;top: 0;bottom: 0;left: 50%;z-index: 0;}#sk-container-id-2 div.sk-serial {display: flex;flex-direction: column;align-items: center;background-color: white;padding-right: 0.2em;padding-left: 0.2em;position: relative;}#sk-container-id-2 div.sk-item {position: relative;z-index: 1;}#sk-container-id-2 div.sk-parallel {display: flex;align-items: stretch;justify-content: center;background-color: white;position: relative;}#sk-container-id-2 div.sk-item::before, #sk-container-id-2 div.sk-parallel-item::before {content: \"\";position: absolute;border-left: 1px solid gray;box-sizing: border-box;top: 0;bottom: 0;left: 50%;z-index: -1;}#sk-container-id-2 div.sk-parallel-item {display: flex;flex-direction: column;z-index: 1;position: relative;background-color: white;}#sk-container-id-2 div.sk-parallel-item:first-child::after {align-self: flex-end;width: 50%;}#sk-container-id-2 div.sk-parallel-item:last-child::after {align-self: flex-start;width: 50%;}#sk-container-id-2 div.sk-parallel-item:only-child::after {width: 0;}#sk-container-id-2 div.sk-dashed-wrapped {border: 1px dashed gray;margin: 0 0.4em 0.5em 0.4em;box-sizing: border-box;padding-bottom: 0.4em;background-color: white;}#sk-container-id-2 div.sk-label label {font-family: monospace;font-weight: bold;display: inline-block;line-height: 1.2em;}#sk-container-id-2 div.sk-label-container {text-align: center;}#sk-container-id-2 div.sk-container {/* jupyter's `normalize.less` sets `[hidden] { display: none; }` but bootstrap.min.css set `[hidden] { display: none !important; }` so we also need the `!important` here to be able to override the default hidden behavior on the sphinx rendered scikit-learn.org. See: https://github.com/scikit-learn/scikit-learn/issues/21755 */display: inline-block !important;position: relative;}#sk-container-id-2 div.sk-text-repr-fallback {display: none;}</style><div id=\"sk-container-id-2\" class=\"sk-top-container\"><div class=\"sk-text-repr-fallback\"><pre>DecisionTreeClassifier(random_state=42)</pre><b>In a Jupyter environment, please rerun this cell to show the HTML representation or trust the notebook. <br />On GitHub, the HTML representation is unable to render, please try loading this page with nbviewer.org.</b></div><div class=\"sk-container\" hidden><div class=\"sk-item\"><div class=\"sk-estimator sk-toggleable\"><input class=\"sk-toggleable__control sk-hidden--visually\" id=\"sk-estimator-id-2\" type=\"checkbox\" checked><label for=\"sk-estimator-id-2\" class=\"sk-toggleable__label sk-toggleable__label-arrow\">DecisionTreeClassifier</label><div class=\"sk-toggleable__content\"><pre>DecisionTreeClassifier(random_state=42)</pre></div></div></div></div></div>"
      ],
      "text/plain": [
       "DecisionTreeClassifier(random_state=42)"
      ]
     },
     "execution_count": 48,
     "metadata": {},
     "output_type": "execute_result"
    }
   ],
   "source": [
    "Tree = DecisionTreeClassifier(random_state=42)\n",
    "Tree.fit(x_train, y_train)"
   ]
  },
  {
   "cell_type": "code",
   "execution_count": 49,
   "id": "6427405c",
   "metadata": {
    "execution": {
     "iopub.execute_input": "2024-02-06T08:27:05.465257Z",
     "iopub.status.busy": "2024-02-06T08:27:05.464838Z",
     "iopub.status.idle": "2024-02-06T08:27:05.471858Z",
     "shell.execute_reply": "2024-02-06T08:27:05.470495Z"
    },
    "papermill": {
     "duration": 0.055222,
     "end_time": "2024-02-06T08:27:05.474229",
     "exception": false,
     "start_time": "2024-02-06T08:27:05.419007",
     "status": "completed"
    },
    "tags": []
   },
   "outputs": [],
   "source": [
    "Tr_Predicts = Tree.predict(x_test)"
   ]
  },
  {
   "cell_type": "markdown",
   "id": "98a2b823",
   "metadata": {
    "papermill": {
     "duration": 0.042255,
     "end_time": "2024-02-06T08:27:05.560667",
     "exception": false,
     "start_time": "2024-02-06T08:27:05.518412",
     "status": "completed"
    },
    "tags": []
   },
   "source": [
    "#### **6.2.1 Evaluation**"
   ]
  },
  {
   "cell_type": "code",
   "execution_count": 50,
   "id": "b133cdc7",
   "metadata": {
    "execution": {
     "iopub.execute_input": "2024-02-06T08:27:05.647546Z",
     "iopub.status.busy": "2024-02-06T08:27:05.647164Z",
     "iopub.status.idle": "2024-02-06T08:27:05.662143Z",
     "shell.execute_reply": "2024-02-06T08:27:05.660781Z"
    },
    "papermill": {
     "duration": 0.061221,
     "end_time": "2024-02-06T08:27:05.664578",
     "exception": false,
     "start_time": "2024-02-06T08:27:05.603357",
     "status": "completed"
    },
    "tags": []
   },
   "outputs": [
    {
     "name": "stdout",
     "output_type": "stream",
     "text": [
      "Accuracy Score is 0.7752808988764045\n",
      "Jaccard Score is 0.5555555555555556\n",
      "F1 Score is 0.7142857142857142\n"
     ]
    }
   ],
   "source": [
    "TR_Accuracy_Score = metrics.accuracy_score(y_test, Tr_Predicts)\n",
    "TR_Jaccard_Score = metrics.jaccard_score(y_test, Tr_Predicts)\n",
    "TR_F1_Score = metrics.f1_score(y_test, Tr_Predicts)\n",
    "\n",
    "\n",
    "print(\"Accuracy Score is\", TR_Accuracy_Score)\n",
    "print(\"Jaccard Score is\", TR_Jaccard_Score)\n",
    "print(\"F1 Score is\", TR_F1_Score)"
   ]
  },
  {
   "cell_type": "markdown",
   "id": "9b73a179",
   "metadata": {
    "papermill": {
     "duration": 0.042355,
     "end_time": "2024-02-06T08:27:05.749216",
     "exception": false,
     "start_time": "2024-02-06T08:27:05.706861",
     "status": "completed"
    },
    "tags": []
   },
   "source": [
    "It seems like a better model than LinearRegression"
   ]
  },
  {
   "cell_type": "markdown",
   "id": "51986421",
   "metadata": {
    "papermill": {
     "duration": 0.042487,
     "end_time": "2024-02-06T08:27:05.833814",
     "exception": false,
     "start_time": "2024-02-06T08:27:05.791327",
     "status": "completed"
    },
    "tags": []
   },
   "source": [
    "## 6.3. Logistic Regression"
   ]
  },
  {
   "cell_type": "markdown",
   "id": "e273f0e0",
   "metadata": {
    "papermill": {
     "duration": 0.043143,
     "end_time": "2024-02-06T08:27:05.919080",
     "exception": false,
     "start_time": "2024-02-06T08:27:05.875937",
     "status": "completed"
    },
    "tags": []
   },
   "source": [
    "#### **6.3.1 Model Training**"
   ]
  },
  {
   "cell_type": "code",
   "execution_count": 51,
   "id": "258f0caf",
   "metadata": {
    "execution": {
     "iopub.execute_input": "2024-02-06T08:27:06.005754Z",
     "iopub.status.busy": "2024-02-06T08:27:06.005373Z",
     "iopub.status.idle": "2024-02-06T08:27:06.021063Z",
     "shell.execute_reply": "2024-02-06T08:27:06.019808Z"
    },
    "papermill": {
     "duration": 0.062338,
     "end_time": "2024-02-06T08:27:06.023774",
     "exception": false,
     "start_time": "2024-02-06T08:27:05.961436",
     "status": "completed"
    },
    "tags": []
   },
   "outputs": [
    {
     "data": {
      "text/html": [
       "<style>#sk-container-id-3 {color: black;background-color: white;}#sk-container-id-3 pre{padding: 0;}#sk-container-id-3 div.sk-toggleable {background-color: white;}#sk-container-id-3 label.sk-toggleable__label {cursor: pointer;display: block;width: 100%;margin-bottom: 0;padding: 0.3em;box-sizing: border-box;text-align: center;}#sk-container-id-3 label.sk-toggleable__label-arrow:before {content: \"▸\";float: left;margin-right: 0.25em;color: #696969;}#sk-container-id-3 label.sk-toggleable__label-arrow:hover:before {color: black;}#sk-container-id-3 div.sk-estimator:hover label.sk-toggleable__label-arrow:before {color: black;}#sk-container-id-3 div.sk-toggleable__content {max-height: 0;max-width: 0;overflow: hidden;text-align: left;background-color: #f0f8ff;}#sk-container-id-3 div.sk-toggleable__content pre {margin: 0.2em;color: black;border-radius: 0.25em;background-color: #f0f8ff;}#sk-container-id-3 input.sk-toggleable__control:checked~div.sk-toggleable__content {max-height: 200px;max-width: 100%;overflow: auto;}#sk-container-id-3 input.sk-toggleable__control:checked~label.sk-toggleable__label-arrow:before {content: \"▾\";}#sk-container-id-3 div.sk-estimator input.sk-toggleable__control:checked~label.sk-toggleable__label {background-color: #d4ebff;}#sk-container-id-3 div.sk-label input.sk-toggleable__control:checked~label.sk-toggleable__label {background-color: #d4ebff;}#sk-container-id-3 input.sk-hidden--visually {border: 0;clip: rect(1px 1px 1px 1px);clip: rect(1px, 1px, 1px, 1px);height: 1px;margin: -1px;overflow: hidden;padding: 0;position: absolute;width: 1px;}#sk-container-id-3 div.sk-estimator {font-family: monospace;background-color: #f0f8ff;border: 1px dotted black;border-radius: 0.25em;box-sizing: border-box;margin-bottom: 0.5em;}#sk-container-id-3 div.sk-estimator:hover {background-color: #d4ebff;}#sk-container-id-3 div.sk-parallel-item::after {content: \"\";width: 100%;border-bottom: 1px solid gray;flex-grow: 1;}#sk-container-id-3 div.sk-label:hover label.sk-toggleable__label {background-color: #d4ebff;}#sk-container-id-3 div.sk-serial::before {content: \"\";position: absolute;border-left: 1px solid gray;box-sizing: border-box;top: 0;bottom: 0;left: 50%;z-index: 0;}#sk-container-id-3 div.sk-serial {display: flex;flex-direction: column;align-items: center;background-color: white;padding-right: 0.2em;padding-left: 0.2em;position: relative;}#sk-container-id-3 div.sk-item {position: relative;z-index: 1;}#sk-container-id-3 div.sk-parallel {display: flex;align-items: stretch;justify-content: center;background-color: white;position: relative;}#sk-container-id-3 div.sk-item::before, #sk-container-id-3 div.sk-parallel-item::before {content: \"\";position: absolute;border-left: 1px solid gray;box-sizing: border-box;top: 0;bottom: 0;left: 50%;z-index: -1;}#sk-container-id-3 div.sk-parallel-item {display: flex;flex-direction: column;z-index: 1;position: relative;background-color: white;}#sk-container-id-3 div.sk-parallel-item:first-child::after {align-self: flex-end;width: 50%;}#sk-container-id-3 div.sk-parallel-item:last-child::after {align-self: flex-start;width: 50%;}#sk-container-id-3 div.sk-parallel-item:only-child::after {width: 0;}#sk-container-id-3 div.sk-dashed-wrapped {border: 1px dashed gray;margin: 0 0.4em 0.5em 0.4em;box-sizing: border-box;padding-bottom: 0.4em;background-color: white;}#sk-container-id-3 div.sk-label label {font-family: monospace;font-weight: bold;display: inline-block;line-height: 1.2em;}#sk-container-id-3 div.sk-label-container {text-align: center;}#sk-container-id-3 div.sk-container {/* jupyter's `normalize.less` sets `[hidden] { display: none; }` but bootstrap.min.css set `[hidden] { display: none !important; }` so we also need the `!important` here to be able to override the default hidden behavior on the sphinx rendered scikit-learn.org. See: https://github.com/scikit-learn/scikit-learn/issues/21755 */display: inline-block !important;position: relative;}#sk-container-id-3 div.sk-text-repr-fallback {display: none;}</style><div id=\"sk-container-id-3\" class=\"sk-top-container\"><div class=\"sk-text-repr-fallback\"><pre>LogisticRegression(solver=&#x27;liblinear&#x27;)</pre><b>In a Jupyter environment, please rerun this cell to show the HTML representation or trust the notebook. <br />On GitHub, the HTML representation is unable to render, please try loading this page with nbviewer.org.</b></div><div class=\"sk-container\" hidden><div class=\"sk-item\"><div class=\"sk-estimator sk-toggleable\"><input class=\"sk-toggleable__control sk-hidden--visually\" id=\"sk-estimator-id-3\" type=\"checkbox\" checked><label for=\"sk-estimator-id-3\" class=\"sk-toggleable__label sk-toggleable__label-arrow\">LogisticRegression</label><div class=\"sk-toggleable__content\"><pre>LogisticRegression(solver=&#x27;liblinear&#x27;)</pre></div></div></div></div></div>"
      ],
      "text/plain": [
       "LogisticRegression(solver='liblinear')"
      ]
     },
     "execution_count": 51,
     "metadata": {},
     "output_type": "execute_result"
    }
   ],
   "source": [
    "# As the dataset is not big, I'll choose sovler as liblinear\n",
    "LogisticR = LogisticRegression(solver='liblinear')\n",
    "LogisticR.fit(x_train,y_train)"
   ]
  },
  {
   "cell_type": "code",
   "execution_count": 52,
   "id": "41e49295",
   "metadata": {
    "execution": {
     "iopub.execute_input": "2024-02-06T08:27:06.111097Z",
     "iopub.status.busy": "2024-02-06T08:27:06.110627Z",
     "iopub.status.idle": "2024-02-06T08:27:06.122396Z",
     "shell.execute_reply": "2024-02-06T08:27:06.121253Z"
    },
    "papermill": {
     "duration": 0.058358,
     "end_time": "2024-02-06T08:27:06.124796",
     "exception": false,
     "start_time": "2024-02-06T08:27:06.066438",
     "status": "completed"
    },
    "tags": []
   },
   "outputs": [
    {
     "data": {
      "text/plain": [
       "array([0., 1., 1., 0., 1., 0., 0., 0., 1., 1., 0., 1., 0., 0., 0., 0., 1.,\n",
       "       0., 0., 0., 0., 1., 0., 0., 0., 0., 0., 1., 0., 0., 0., 1., 0., 0.,\n",
       "       0., 0., 1., 1., 0., 0., 0., 1., 0., 0., 0., 0., 1., 0., 0., 1., 1.,\n",
       "       1., 0., 0., 1., 1., 1., 0., 0., 0., 0., 1., 1., 0., 1., 0., 0., 0.,\n",
       "       1., 1., 0., 1., 1., 0., 1., 1., 0., 0., 1., 0., 1., 1., 1., 1., 0.,\n",
       "       0., 0., 0., 0., 0., 0., 1., 0., 0., 0., 1., 0., 0., 0., 0., 0., 1.,\n",
       "       0., 0., 0., 0., 1., 1., 0., 0., 0., 0., 0., 1., 0., 0., 0., 0., 1.,\n",
       "       0., 0., 1., 0., 0., 1., 1., 0., 1., 1., 0., 1., 0., 0., 0., 1., 1.,\n",
       "       0., 1., 1., 1., 1., 0., 1., 1., 1., 0., 0., 1., 0., 1., 0., 1., 0.,\n",
       "       0., 0., 1., 0., 0., 0., 1., 0., 1., 0., 0., 0., 1., 1., 0., 0., 1.,\n",
       "       1., 1., 1., 0., 1., 1., 0., 1.])"
      ]
     },
     "execution_count": 52,
     "metadata": {},
     "output_type": "execute_result"
    }
   ],
   "source": [
    "Lo_predicts = LogisticR.predict(x_test)\n",
    "Lo_predicts"
   ]
  },
  {
   "cell_type": "code",
   "execution_count": 53,
   "id": "8e339188",
   "metadata": {
    "execution": {
     "iopub.execute_input": "2024-02-06T08:27:06.215108Z",
     "iopub.status.busy": "2024-02-06T08:27:06.214686Z",
     "iopub.status.idle": "2024-02-06T08:27:06.229318Z",
     "shell.execute_reply": "2024-02-06T08:27:06.228313Z"
    },
    "papermill": {
     "duration": 0.063428,
     "end_time": "2024-02-06T08:27:06.231909",
     "exception": false,
     "start_time": "2024-02-06T08:27:06.168481",
     "status": "completed"
    },
    "tags": []
   },
   "outputs": [
    {
     "data": {
      "text/plain": [
       "array([[0.87879359, 0.12120641],\n",
       "       [0.11786751, 0.88213249],\n",
       "       [0.3206896 , 0.6793104 ],\n",
       "       [0.78787319, 0.21212681],\n",
       "       [0.1166563 , 0.8833437 ],\n",
       "       [0.87924559, 0.12075441],\n",
       "       [0.78787319, 0.21212681],\n",
       "       [0.87837675, 0.12162325],\n",
       "       [0.08299156, 0.91700844],\n",
       "       [0.06264506, 0.93735494],\n",
       "       [0.76615951, 0.23384049],\n",
       "       [0.43302192, 0.56697808],\n",
       "       [0.86887983, 0.13112017],\n",
       "       [0.85540963, 0.14459037],\n",
       "       [0.8779522 , 0.1220478 ],\n",
       "       [0.87103383, 0.12896617],\n",
       "       [0.48779501, 0.51220499],\n",
       "       [0.82394113, 0.17605887],\n",
       "       [0.7465061 , 0.2534939 ],\n",
       "       [0.87877216, 0.12122784],\n",
       "       [0.66950734, 0.33049266],\n",
       "       [0.12338657, 0.87661343],\n",
       "       [0.87435141, 0.12564859],\n",
       "       [0.53896224, 0.46103776],\n",
       "       [0.87869272, 0.12130728],\n",
       "       [0.51557835, 0.48442165],\n",
       "       [0.70515364, 0.29484636],\n",
       "       [0.19998969, 0.80001031],\n",
       "       [0.62854886, 0.37145114],\n",
       "       [0.78988607, 0.21011393],\n",
       "       [0.63630299, 0.36369701],\n",
       "       [0.32737202, 0.67262798],\n",
       "       [0.87869272, 0.12130728],\n",
       "       [0.52403117, 0.47596883],\n",
       "       [0.90732096, 0.09267904],\n",
       "       [0.67778083, 0.32221917],\n",
       "       [0.38589344, 0.61410656],\n",
       "       [0.10095846, 0.89904154],\n",
       "       [0.8228985 , 0.1771015 ],\n",
       "       [0.87869272, 0.12130728],\n",
       "       [0.76050931, 0.23949069],\n",
       "       [0.44245122, 0.55754878],\n",
       "       [0.78787319, 0.21212681],\n",
       "       [0.87877216, 0.12122784],\n",
       "       [0.64625584, 0.35374416],\n",
       "       [0.51161807, 0.48838193],\n",
       "       [0.28757364, 0.71242636],\n",
       "       [0.87920709, 0.12079291],\n",
       "       [0.78787319, 0.21212681],\n",
       "       [0.0314899 , 0.9685101 ],\n",
       "       [0.23418033, 0.76581967],\n",
       "       [0.32723449, 0.67276551],\n",
       "       [0.87882365, 0.12117635],\n",
       "       [0.80608939, 0.19391061],\n",
       "       [0.23011672, 0.76988328],\n",
       "       [0.22584027, 0.77415973],\n",
       "       [0.2667242 , 0.7332758 ],\n",
       "       [0.87875712, 0.12124288],\n",
       "       [0.87123397, 0.12876603],\n",
       "       [0.78988607, 0.21011393],\n",
       "       [0.65136723, 0.34863277],\n",
       "       [0.44841092, 0.55158908],\n",
       "       [0.08973957, 0.91026043],\n",
       "       [0.87108025, 0.12891975],\n",
       "       [0.23920969, 0.76079031],\n",
       "       [0.78787319, 0.21212681],\n",
       "       [0.86833039, 0.13166961],\n",
       "       [0.85143526, 0.14856474],\n",
       "       [0.09377883, 0.90622117],\n",
       "       [0.07404857, 0.92595143],\n",
       "       [0.78787319, 0.21212681],\n",
       "       [0.10290957, 0.89709043],\n",
       "       [0.29611388, 0.70388612],\n",
       "       [0.87837675, 0.12162325],\n",
       "       [0.43118314, 0.56881686],\n",
       "       [0.23009439, 0.76990561],\n",
       "       [0.87863691, 0.12136309],\n",
       "       [0.87916858, 0.12083142],\n",
       "       [0.37286718, 0.62713282],\n",
       "       [0.64243371, 0.35756629],\n",
       "       [0.35582549, 0.64417451],\n",
       "       [0.08778833, 0.91221167],\n",
       "       [0.25764499, 0.74235501],\n",
       "       [0.32737202, 0.67262798],\n",
       "       [0.82387158, 0.17612842],\n",
       "       [0.85335499, 0.14664501],\n",
       "       [0.86860651, 0.13139349],\n",
       "       [0.78787319, 0.21212681],\n",
       "       [0.87910437, 0.12089563],\n",
       "       [0.87869272, 0.12130728],\n",
       "       [0.87875712, 0.12124288],\n",
       "       [0.37524297, 0.62475703],\n",
       "       [0.87910437, 0.12089563],\n",
       "       [0.87883436, 0.12116564],\n",
       "       [0.85143526, 0.14856474],\n",
       "       [0.31731578, 0.68268422],\n",
       "       [0.87877216, 0.12122784],\n",
       "       [0.78988607, 0.21011393],\n",
       "       [0.90268325, 0.09731675],\n",
       "       [0.85335499, 0.14664501],\n",
       "       [0.87920709, 0.12079291],\n",
       "       [0.05846437, 0.94153563],\n",
       "       [0.56443077, 0.43556923],\n",
       "       [0.8785316 , 0.1214684 ],\n",
       "       [0.78464803, 0.21535197],\n",
       "       [0.86833039, 0.13166961],\n",
       "       [0.377413  , 0.622587  ],\n",
       "       [0.12478449, 0.87521551],\n",
       "       [0.82394408, 0.17605592],\n",
       "       [0.87849507, 0.12150493],\n",
       "       [0.87776429, 0.12223571],\n",
       "       [0.50982602, 0.49017398],\n",
       "       [0.94771425, 0.05228575],\n",
       "       [0.15028772, 0.84971228],\n",
       "       [0.88396077, 0.11603923],\n",
       "       [0.90935689, 0.09064311],\n",
       "       [0.77091526, 0.22908474],\n",
       "       [0.79818677, 0.20181323],\n",
       "       [0.37225854, 0.62774146],\n",
       "       [0.91744279, 0.08255721],\n",
       "       [0.81928397, 0.18071603],\n",
       "       [0.09954442, 0.90045558],\n",
       "       [0.86843858, 0.13156142],\n",
       "       [0.87532956, 0.12467044],\n",
       "       [0.08611146, 0.91388854],\n",
       "       [0.08686582, 0.91313418],\n",
       "       [0.53896224, 0.46103776],\n",
       "       [0.14789586, 0.85210414],\n",
       "       [0.32737202, 0.67262798],\n",
       "       [0.63907328, 0.36092672],\n",
       "       [0.23920969, 0.76079031],\n",
       "       [0.77931589, 0.22068411],\n",
       "       [0.82611206, 0.17388794],\n",
       "       [0.82394408, 0.17605592],\n",
       "       [0.37749343, 0.62250657],\n",
       "       [0.28732609, 0.71267391],\n",
       "       [0.87883436, 0.12116564],\n",
       "       [0.23701712, 0.76298288],\n",
       "       [0.43070892, 0.56929108],\n",
       "       [0.23830081, 0.76169919],\n",
       "       [0.29611388, 0.70388612],\n",
       "       [0.87877216, 0.12122784],\n",
       "       [0.23701712, 0.76298288],\n",
       "       [0.36672684, 0.63327316],\n",
       "       [0.06139131, 0.93860869],\n",
       "       [0.69032941, 0.30967059],\n",
       "       [0.78464803, 0.21535197],\n",
       "       [0.06722665, 0.93277335],\n",
       "       [0.87883436, 0.12116564],\n",
       "       [0.10882969, 0.89117031],\n",
       "       [0.87897802, 0.12102198],\n",
       "       [0.27635259, 0.72364741],\n",
       "       [0.59526022, 0.40473978],\n",
       "       [0.78297807, 0.21702193],\n",
       "       [0.85881454, 0.14118546],\n",
       "       [0.31793548, 0.68206452],\n",
       "       [0.62322862, 0.37677138],\n",
       "       [0.66400831, 0.33599169],\n",
       "       [0.73126798, 0.26873202],\n",
       "       [0.10560414, 0.89439586],\n",
       "       [0.9047162 , 0.0952838 ],\n",
       "       [0.07510636, 0.92489364],\n",
       "       [0.87875712, 0.12124288],\n",
       "       [0.85292597, 0.14707403],\n",
       "       [0.50367466, 0.49632534],\n",
       "       [0.4531236 , 0.5468764 ],\n",
       "       [0.15037262, 0.84962738],\n",
       "       [0.87910437, 0.12089563],\n",
       "       [0.87920709, 0.12079291],\n",
       "       [0.23830081, 0.76169919],\n",
       "       [0.23701712, 0.76298288],\n",
       "       [0.17446076, 0.82553924],\n",
       "       [0.32859804, 0.67140196],\n",
       "       [0.87236415, 0.12763585],\n",
       "       [0.37758341, 0.62241659],\n",
       "       [0.48313117, 0.51686883],\n",
       "       [0.56687557, 0.43312443],\n",
       "       [0.43026573, 0.56973427]])"
      ]
     },
     "execution_count": 53,
     "metadata": {},
     "output_type": "execute_result"
    }
   ],
   "source": [
    "Lo_predicts_proba = LogisticR.predict_proba(x_test)\n",
    "Lo_predicts_proba"
   ]
  },
  {
   "cell_type": "markdown",
   "id": "b0405f78",
   "metadata": {
    "papermill": {
     "duration": 0.042914,
     "end_time": "2024-02-06T08:27:06.318238",
     "exception": false,
     "start_time": "2024-02-06T08:27:06.275324",
     "status": "completed"
    },
    "tags": []
   },
   "source": [
    "#### **6.3.2 Evaluation**"
   ]
  },
  {
   "cell_type": "code",
   "execution_count": 54,
   "id": "8228b494",
   "metadata": {
    "execution": {
     "iopub.execute_input": "2024-02-06T08:27:06.406911Z",
     "iopub.status.busy": "2024-02-06T08:27:06.406516Z",
     "iopub.status.idle": "2024-02-06T08:27:06.425056Z",
     "shell.execute_reply": "2024-02-06T08:27:06.423910Z"
    },
    "papermill": {
     "duration": 0.06646,
     "end_time": "2024-02-06T08:27:06.427669",
     "exception": false,
     "start_time": "2024-02-06T08:27:06.361209",
     "status": "completed"
    },
    "tags": []
   },
   "outputs": [
    {
     "name": "stdout",
     "output_type": "stream",
     "text": [
      "Accuracy Score is 0.797752808988764\n",
      "Jaccard Score is 0.5909090909090909\n",
      "F1 Score is 0.7428571428571428\n",
      "Log Loss is 0.4563849495763939\n"
     ]
    }
   ],
   "source": [
    "Lo_Accuracy_Score = metrics.accuracy_score(y_test, Lo_predicts)\n",
    "Lo_Jaccard_Score = metrics.jaccard_score(y_test, Lo_predicts)\n",
    "Lo_F1_Score = metrics.f1_score(y_test, Lo_predicts)\n",
    "Lo_Log_Loss = metrics.log_loss(y_test, Lo_predicts_proba)\n",
    "\n",
    "\n",
    "print(\"Accuracy Score is\", Lo_Accuracy_Score)\n",
    "print(\"Jaccard Score is\", Lo_Jaccard_Score)\n",
    "print(\"F1 Score is\", Lo_F1_Score)\n",
    "print(\"Log Loss is\", Lo_Log_Loss)"
   ]
  },
  {
   "cell_type": "markdown",
   "id": "c5e55dd1",
   "metadata": {
    "papermill": {
     "duration": 0.042868,
     "end_time": "2024-02-06T08:27:06.515200",
     "exception": false,
     "start_time": "2024-02-06T08:27:06.472332",
     "status": "completed"
    },
    "tags": []
   },
   "source": [
    "It looks like better than LinearRegression and worse than DecisionTree"
   ]
  },
  {
   "cell_type": "markdown",
   "id": "c6564ebf",
   "metadata": {
    "papermill": {
     "duration": 0.042975,
     "end_time": "2024-02-06T08:27:06.601403",
     "exception": false,
     "start_time": "2024-02-06T08:27:06.558428",
     "status": "completed"
    },
    "tags": []
   },
   "source": [
    "## 6.4. SVM"
   ]
  },
  {
   "cell_type": "markdown",
   "id": "705646c9",
   "metadata": {
    "papermill": {
     "duration": 0.043338,
     "end_time": "2024-02-06T08:27:06.688357",
     "exception": false,
     "start_time": "2024-02-06T08:27:06.645019",
     "status": "completed"
    },
    "tags": []
   },
   "source": [
    "#### **6.4.1 Model Training**"
   ]
  },
  {
   "cell_type": "code",
   "execution_count": 55,
   "id": "99ebd5a1",
   "metadata": {
    "execution": {
     "iopub.execute_input": "2024-02-06T08:27:06.777152Z",
     "iopub.status.busy": "2024-02-06T08:27:06.776750Z",
     "iopub.status.idle": "2024-02-06T08:27:06.805042Z",
     "shell.execute_reply": "2024-02-06T08:27:06.803800Z"
    },
    "papermill": {
     "duration": 0.075427,
     "end_time": "2024-02-06T08:27:06.807342",
     "exception": false,
     "start_time": "2024-02-06T08:27:06.731915",
     "status": "completed"
    },
    "tags": []
   },
   "outputs": [
    {
     "data": {
      "text/html": [
       "<style>#sk-container-id-4 {color: black;background-color: white;}#sk-container-id-4 pre{padding: 0;}#sk-container-id-4 div.sk-toggleable {background-color: white;}#sk-container-id-4 label.sk-toggleable__label {cursor: pointer;display: block;width: 100%;margin-bottom: 0;padding: 0.3em;box-sizing: border-box;text-align: center;}#sk-container-id-4 label.sk-toggleable__label-arrow:before {content: \"▸\";float: left;margin-right: 0.25em;color: #696969;}#sk-container-id-4 label.sk-toggleable__label-arrow:hover:before {color: black;}#sk-container-id-4 div.sk-estimator:hover label.sk-toggleable__label-arrow:before {color: black;}#sk-container-id-4 div.sk-toggleable__content {max-height: 0;max-width: 0;overflow: hidden;text-align: left;background-color: #f0f8ff;}#sk-container-id-4 div.sk-toggleable__content pre {margin: 0.2em;color: black;border-radius: 0.25em;background-color: #f0f8ff;}#sk-container-id-4 input.sk-toggleable__control:checked~div.sk-toggleable__content {max-height: 200px;max-width: 100%;overflow: auto;}#sk-container-id-4 input.sk-toggleable__control:checked~label.sk-toggleable__label-arrow:before {content: \"▾\";}#sk-container-id-4 div.sk-estimator input.sk-toggleable__control:checked~label.sk-toggleable__label {background-color: #d4ebff;}#sk-container-id-4 div.sk-label input.sk-toggleable__control:checked~label.sk-toggleable__label {background-color: #d4ebff;}#sk-container-id-4 input.sk-hidden--visually {border: 0;clip: rect(1px 1px 1px 1px);clip: rect(1px, 1px, 1px, 1px);height: 1px;margin: -1px;overflow: hidden;padding: 0;position: absolute;width: 1px;}#sk-container-id-4 div.sk-estimator {font-family: monospace;background-color: #f0f8ff;border: 1px dotted black;border-radius: 0.25em;box-sizing: border-box;margin-bottom: 0.5em;}#sk-container-id-4 div.sk-estimator:hover {background-color: #d4ebff;}#sk-container-id-4 div.sk-parallel-item::after {content: \"\";width: 100%;border-bottom: 1px solid gray;flex-grow: 1;}#sk-container-id-4 div.sk-label:hover label.sk-toggleable__label {background-color: #d4ebff;}#sk-container-id-4 div.sk-serial::before {content: \"\";position: absolute;border-left: 1px solid gray;box-sizing: border-box;top: 0;bottom: 0;left: 50%;z-index: 0;}#sk-container-id-4 div.sk-serial {display: flex;flex-direction: column;align-items: center;background-color: white;padding-right: 0.2em;padding-left: 0.2em;position: relative;}#sk-container-id-4 div.sk-item {position: relative;z-index: 1;}#sk-container-id-4 div.sk-parallel {display: flex;align-items: stretch;justify-content: center;background-color: white;position: relative;}#sk-container-id-4 div.sk-item::before, #sk-container-id-4 div.sk-parallel-item::before {content: \"\";position: absolute;border-left: 1px solid gray;box-sizing: border-box;top: 0;bottom: 0;left: 50%;z-index: -1;}#sk-container-id-4 div.sk-parallel-item {display: flex;flex-direction: column;z-index: 1;position: relative;background-color: white;}#sk-container-id-4 div.sk-parallel-item:first-child::after {align-self: flex-end;width: 50%;}#sk-container-id-4 div.sk-parallel-item:last-child::after {align-self: flex-start;width: 50%;}#sk-container-id-4 div.sk-parallel-item:only-child::after {width: 0;}#sk-container-id-4 div.sk-dashed-wrapped {border: 1px dashed gray;margin: 0 0.4em 0.5em 0.4em;box-sizing: border-box;padding-bottom: 0.4em;background-color: white;}#sk-container-id-4 div.sk-label label {font-family: monospace;font-weight: bold;display: inline-block;line-height: 1.2em;}#sk-container-id-4 div.sk-label-container {text-align: center;}#sk-container-id-4 div.sk-container {/* jupyter's `normalize.less` sets `[hidden] { display: none; }` but bootstrap.min.css set `[hidden] { display: none !important; }` so we also need the `!important` here to be able to override the default hidden behavior on the sphinx rendered scikit-learn.org. See: https://github.com/scikit-learn/scikit-learn/issues/21755 */display: inline-block !important;position: relative;}#sk-container-id-4 div.sk-text-repr-fallback {display: none;}</style><div id=\"sk-container-id-4\" class=\"sk-top-container\"><div class=\"sk-text-repr-fallback\"><pre>SVC()</pre><b>In a Jupyter environment, please rerun this cell to show the HTML representation or trust the notebook. <br />On GitHub, the HTML representation is unable to render, please try loading this page with nbviewer.org.</b></div><div class=\"sk-container\" hidden><div class=\"sk-item\"><div class=\"sk-estimator sk-toggleable\"><input class=\"sk-toggleable__control sk-hidden--visually\" id=\"sk-estimator-id-4\" type=\"checkbox\" checked><label for=\"sk-estimator-id-4\" class=\"sk-toggleable__label sk-toggleable__label-arrow\">SVC</label><div class=\"sk-toggleable__content\"><pre>SVC()</pre></div></div></div></div></div>"
      ],
      "text/plain": [
       "SVC()"
      ]
     },
     "execution_count": 55,
     "metadata": {},
     "output_type": "execute_result"
    }
   ],
   "source": [
    "#I'm gonna use 'rbf' kernel as it has bad result in regression model.\n",
    "#I think it means it doesn't have linear parttern\n",
    "SVM = svm.SVC(kernel='rbf')\n",
    "SVM.fit(x_train, y_train)"
   ]
  },
  {
   "cell_type": "code",
   "execution_count": 56,
   "id": "f17a7d39",
   "metadata": {
    "execution": {
     "iopub.execute_input": "2024-02-06T08:27:06.896384Z",
     "iopub.status.busy": "2024-02-06T08:27:06.895967Z",
     "iopub.status.idle": "2024-02-06T08:27:06.911640Z",
     "shell.execute_reply": "2024-02-06T08:27:06.910547Z"
    },
    "papermill": {
     "duration": 0.062958,
     "end_time": "2024-02-06T08:27:06.913978",
     "exception": false,
     "start_time": "2024-02-06T08:27:06.851020",
     "status": "completed"
    },
    "tags": []
   },
   "outputs": [
    {
     "data": {
      "text/plain": [
       "array([0., 1., 0., 0., 1., 0., 0., 0., 1., 1., 0., 0., 0., 0., 0., 0., 1.,\n",
       "       0., 0., 0., 0., 1., 0., 0., 0., 0., 0., 0., 0., 0., 0., 0., 0., 0.,\n",
       "       0., 0., 0., 1., 0., 0., 0., 0., 0., 0., 0., 0., 0., 0., 0., 1., 0.,\n",
       "       0., 0., 0., 0., 0., 0., 0., 0., 0., 0., 0., 1., 0., 0., 0., 0., 1.,\n",
       "       1., 1., 0., 1., 0., 0., 0., 0., 0., 0., 0., 0., 0., 0., 0., 0., 0.,\n",
       "       0., 0., 0., 0., 0., 0., 0., 0., 0., 1., 0., 0., 0., 0., 0., 0., 1.,\n",
       "       0., 0., 0., 0., 0., 0., 0., 0., 0., 1., 0., 0., 0., 0., 0., 0., 0.,\n",
       "       0., 0., 1., 0., 0., 1., 1., 0., 1., 0., 0., 0., 0., 1., 0., 0., 0.,\n",
       "       0., 0., 0., 0., 0., 0., 0., 0., 1., 0., 0., 1., 0., 1., 0., 0., 0.,\n",
       "       0., 0., 0., 0., 1., 0., 1., 0., 1., 0., 0., 1., 0., 0., 0., 0., 0.,\n",
       "       0., 0., 0., 0., 0., 0., 0., 0.])"
      ]
     },
     "execution_count": 56,
     "metadata": {},
     "output_type": "execute_result"
    }
   ],
   "source": [
    "SVM_predicts = SVM.predict(x_test)\n",
    "SVM_predicts"
   ]
  },
  {
   "cell_type": "markdown",
   "id": "20689fe0",
   "metadata": {
    "papermill": {
     "duration": 0.043543,
     "end_time": "2024-02-06T08:27:07.001357",
     "exception": false,
     "start_time": "2024-02-06T08:27:06.957814",
     "status": "completed"
    },
    "tags": []
   },
   "source": [
    "#### **6.4.2 Evaluation**"
   ]
  },
  {
   "cell_type": "code",
   "execution_count": 57,
   "id": "4099b700",
   "metadata": {
    "execution": {
     "iopub.execute_input": "2024-02-06T08:27:07.090440Z",
     "iopub.status.busy": "2024-02-06T08:27:07.090060Z",
     "iopub.status.idle": "2024-02-06T08:27:07.103887Z",
     "shell.execute_reply": "2024-02-06T08:27:07.102616Z"
    },
    "papermill": {
     "duration": 0.061359,
     "end_time": "2024-02-06T08:27:07.106262",
     "exception": false,
     "start_time": "2024-02-06T08:27:07.044903",
     "status": "completed"
    },
    "tags": []
   },
   "outputs": [
    {
     "name": "stdout",
     "output_type": "stream",
     "text": [
      "Accuracy Score is 0.6797752808988764\n",
      "Jaccard Score is 0.2597402597402597\n",
      "F1 Score is 0.41237113402061853\n"
     ]
    }
   ],
   "source": [
    "SVM_Accuracy_Score = metrics.accuracy_score(y_test, SVM_predicts)\n",
    "SVM_Jaccard_Score = metrics.jaccard_score(y_test, SVM_predicts)\n",
    "SVM_F1_Score = metrics.f1_score(y_test, SVM_predicts)\n",
    "\n",
    "\n",
    "print(\"Accuracy Score is\", SVM_Accuracy_Score)\n",
    "print(\"Jaccard Score is\", SVM_Jaccard_Score)\n",
    "print(\"F1 Score is\", SVM_F1_Score)"
   ]
  },
  {
   "cell_type": "markdown",
   "id": "2978daf8",
   "metadata": {
    "papermill": {
     "duration": 0.044691,
     "end_time": "2024-02-06T08:27:07.194658",
     "exception": false,
     "start_time": "2024-02-06T08:27:07.149967",
     "status": "completed"
    },
    "tags": []
   },
   "source": [
    "It seems like it's not a good model"
   ]
  },
  {
   "cell_type": "markdown",
   "id": "439869d3",
   "metadata": {
    "papermill": {
     "duration": 0.043533,
     "end_time": "2024-02-06T08:27:07.282776",
     "exception": false,
     "start_time": "2024-02-06T08:27:07.239243",
     "status": "completed"
    },
    "tags": []
   },
   "source": [
    "# 7. Compare the results and choose the right model"
   ]
  },
  {
   "cell_type": "code",
   "execution_count": 58,
   "id": "67ecc5ca",
   "metadata": {
    "execution": {
     "iopub.execute_input": "2024-02-06T08:27:07.374821Z",
     "iopub.status.busy": "2024-02-06T08:27:07.373921Z",
     "iopub.status.idle": "2024-02-06T08:27:07.391919Z",
     "shell.execute_reply": "2024-02-06T08:27:07.390792Z"
    },
    "papermill": {
     "duration": 0.066899,
     "end_time": "2024-02-06T08:27:07.394483",
     "exception": false,
     "start_time": "2024-02-06T08:27:07.327584",
     "status": "completed"
    },
    "tags": []
   },
   "outputs": [
    {
     "data": {
      "text/html": [
       "<div>\n",
       "<style scoped>\n",
       "    .dataframe tbody tr th:only-of-type {\n",
       "        vertical-align: middle;\n",
       "    }\n",
       "\n",
       "    .dataframe tbody tr th {\n",
       "        vertical-align: top;\n",
       "    }\n",
       "\n",
       "    .dataframe thead th {\n",
       "        text-align: right;\n",
       "    }\n",
       "</style>\n",
       "<table border=\"1\" class=\"dataframe\">\n",
       "  <thead>\n",
       "    <tr style=\"text-align: right;\">\n",
       "      <th></th>\n",
       "      <th>Linear Regression</th>\n",
       "      <th>Decision Tree</th>\n",
       "      <th>Logistic Regression</th>\n",
       "      <th>SVM</th>\n",
       "    </tr>\n",
       "  </thead>\n",
       "  <tbody>\n",
       "    <tr>\n",
       "      <th>MAE</th>\n",
       "      <td>0.297852</td>\n",
       "      <td>NaN</td>\n",
       "      <td>NaN</td>\n",
       "      <td>NaN</td>\n",
       "    </tr>\n",
       "    <tr>\n",
       "      <th>MSE</th>\n",
       "      <td>0.146344</td>\n",
       "      <td>NaN</td>\n",
       "      <td>NaN</td>\n",
       "      <td>NaN</td>\n",
       "    </tr>\n",
       "    <tr>\n",
       "      <th>RMSE</th>\n",
       "      <td>0.382550</td>\n",
       "      <td>NaN</td>\n",
       "      <td>NaN</td>\n",
       "      <td>NaN</td>\n",
       "    </tr>\n",
       "    <tr>\n",
       "      <th>R2</th>\n",
       "      <td>0.383491</td>\n",
       "      <td>NaN</td>\n",
       "      <td>NaN</td>\n",
       "      <td>NaN</td>\n",
       "    </tr>\n",
       "    <tr>\n",
       "      <th>Accuracy</th>\n",
       "      <td>NaN</td>\n",
       "      <td>0.775281</td>\n",
       "      <td>0.797753</td>\n",
       "      <td>0.679775</td>\n",
       "    </tr>\n",
       "    <tr>\n",
       "      <th>Jaccard</th>\n",
       "      <td>NaN</td>\n",
       "      <td>0.555556</td>\n",
       "      <td>0.590909</td>\n",
       "      <td>0.259740</td>\n",
       "    </tr>\n",
       "    <tr>\n",
       "      <th>F1</th>\n",
       "      <td>NaN</td>\n",
       "      <td>0.714286</td>\n",
       "      <td>0.742857</td>\n",
       "      <td>0.412371</td>\n",
       "    </tr>\n",
       "    <tr>\n",
       "      <th>Log Loss</th>\n",
       "      <td>NaN</td>\n",
       "      <td>NaN</td>\n",
       "      <td>0.456385</td>\n",
       "      <td>NaN</td>\n",
       "    </tr>\n",
       "  </tbody>\n",
       "</table>\n",
       "</div>"
      ],
      "text/plain": [
       "          Linear Regression  Decision Tree  Logistic Regression       SVM\n",
       "MAE                0.297852            NaN                  NaN       NaN\n",
       "MSE                0.146344            NaN                  NaN       NaN\n",
       "RMSE               0.382550            NaN                  NaN       NaN\n",
       "R2                 0.383491            NaN                  NaN       NaN\n",
       "Accuracy                NaN       0.775281             0.797753  0.679775\n",
       "Jaccard                 NaN       0.555556             0.590909  0.259740\n",
       "F1                      NaN       0.714286             0.742857  0.412371\n",
       "Log Loss                NaN            NaN             0.456385       NaN"
      ]
     },
     "execution_count": 58,
     "metadata": {},
     "output_type": "execute_result"
    }
   ],
   "source": [
    "#Let's compare the evaluations by making table\n",
    "N = None\n",
    "Score = {'Linear Regression':[LR_MAE, LR_MSE, LR_RMSE, LR_R2, N, N, N, N],\n",
    "         'Decision Tree': [N, N, N, N, TR_Accuracy_Score,TR_Jaccard_Score, TR_F1_Score, N ],\n",
    "         'Logistic Regression': [N, N, N, N, Lo_Accuracy_Score, Lo_Jaccard_Score, Lo_F1_Score, Lo_Log_Loss],\n",
    "         'SVM':[N, N, N, N, SVM_Accuracy_Score, SVM_Jaccard_Score, SVM_F1_Score, N]}\n",
    "Report = pd.DataFrame(Score, index=['MAE', 'MSE', 'RMSE', 'R2','Accuracy','Jaccard', 'F1','Log Loss'])\n",
    "Report"
   ]
  },
  {
   "cell_type": "markdown",
   "id": "214cb8f7",
   "metadata": {
    "papermill": {
     "duration": 0.044051,
     "end_time": "2024-02-06T08:27:07.484246",
     "exception": false,
     "start_time": "2024-02-06T08:27:07.440195",
     "status": "completed"
    },
    "tags": []
   },
   "source": [
    "The evaluation of Logistic Regression is the best among models\\\n",
    "So I'm going to use Logistic Regression model to get the prediction of test file"
   ]
  },
  {
   "cell_type": "markdown",
   "id": "d2c25d1a",
   "metadata": {
    "papermill": {
     "duration": 0.043701,
     "end_time": "2024-02-06T08:27:07.571904",
     "exception": false,
     "start_time": "2024-02-06T08:27:07.528203",
     "status": "completed"
    },
    "tags": []
   },
   "source": [
    "# 8. Apply Model(Logistic Regression) to Test file"
   ]
  },
  {
   "cell_type": "code",
   "execution_count": 59,
   "id": "005777da",
   "metadata": {
    "execution": {
     "iopub.execute_input": "2024-02-06T08:27:07.662661Z",
     "iopub.status.busy": "2024-02-06T08:27:07.662245Z",
     "iopub.status.idle": "2024-02-06T08:27:07.674817Z",
     "shell.execute_reply": "2024-02-06T08:27:07.673525Z"
    },
    "papermill": {
     "duration": 0.06156,
     "end_time": "2024-02-06T08:27:07.677562",
     "exception": false,
     "start_time": "2024-02-06T08:27:07.616002",
     "status": "completed"
    },
    "tags": []
   },
   "outputs": [
    {
     "name": "stdout",
     "output_type": "stream",
     "text": [
      "<class 'pandas.core.frame.DataFrame'>\n",
      "RangeIndex: 418 entries, 0 to 417\n",
      "Data columns (total 11 columns):\n",
      " #   Column       Non-Null Count  Dtype  \n",
      "---  ------       --------------  -----  \n",
      " 0   PassengerId  418 non-null    int64  \n",
      " 1   Pclass       418 non-null    int64  \n",
      " 2   Name         418 non-null    object \n",
      " 3   Sex          418 non-null    object \n",
      " 4   Age          332 non-null    float64\n",
      " 5   SibSp        418 non-null    int64  \n",
      " 6   Parch        418 non-null    int64  \n",
      " 7   Ticket       418 non-null    object \n",
      " 8   Fare         417 non-null    float64\n",
      " 9   Cabin        91 non-null     object \n",
      " 10  Embarked     418 non-null    object \n",
      "dtypes: float64(2), int64(4), object(5)\n",
      "memory usage: 36.0+ KB\n"
     ]
    }
   ],
   "source": [
    "titanic_test.info()"
   ]
  },
  {
   "cell_type": "markdown",
   "id": "4690a402",
   "metadata": {
    "papermill": {
     "duration": 0.044217,
     "end_time": "2024-02-06T08:27:07.766157",
     "exception": false,
     "start_time": "2024-02-06T08:27:07.721940",
     "status": "completed"
    },
    "tags": []
   },
   "source": [
    "### 8.1 Preprocess Test by the same method of train file"
   ]
  },
  {
   "cell_type": "code",
   "execution_count": 60,
   "id": "3056cb51",
   "metadata": {
    "execution": {
     "iopub.execute_input": "2024-02-06T08:27:07.856439Z",
     "iopub.status.busy": "2024-02-06T08:27:07.856049Z",
     "iopub.status.idle": "2024-02-06T08:27:07.864872Z",
     "shell.execute_reply": "2024-02-06T08:27:07.863751Z"
    },
    "papermill": {
     "duration": 0.057074,
     "end_time": "2024-02-06T08:27:07.867315",
     "exception": false,
     "start_time": "2024-02-06T08:27:07.810241",
     "status": "completed"
    },
    "tags": []
   },
   "outputs": [
    {
     "data": {
      "text/plain": [
       "Index(['Pclass', 'Sex', 'Age', 'SibSp', 'Parch', 'Fare', 'Cabin', 'Embarked'], dtype='object')"
      ]
     },
     "execution_count": 60,
     "metadata": {},
     "output_type": "execute_result"
    }
   ],
   "source": [
    "# drop the columns\n",
    "titanic_test = titanic_test.drop(['PassengerId', 'Name', 'Ticket'], axis=1)\n",
    "titanic_test.columns"
   ]
  },
  {
   "cell_type": "code",
   "execution_count": 61,
   "id": "6f05cdce",
   "metadata": {
    "execution": {
     "iopub.execute_input": "2024-02-06T08:27:07.959241Z",
     "iopub.status.busy": "2024-02-06T08:27:07.958469Z",
     "iopub.status.idle": "2024-02-06T08:27:07.972101Z",
     "shell.execute_reply": "2024-02-06T08:27:07.970880Z"
    },
    "papermill": {
     "duration": 0.062548,
     "end_time": "2024-02-06T08:27:07.974527",
     "exception": false,
     "start_time": "2024-02-06T08:27:07.911979",
     "status": "completed"
    },
    "tags": []
   },
   "outputs": [
    {
     "data": {
      "text/plain": [
       "Age_Group\n",
       "Youth         209\n",
       "Middle-age     68\n",
       "Minors         41\n",
       "Seniors        14\n",
       "Name: count, dtype: int64"
      ]
     },
     "execution_count": 61,
     "metadata": {},
     "output_type": "execute_result"
    }
   ],
   "source": [
    "# label encoding on Age\n",
    "titanic_test['Age_Group'] = pd.cut(titanic_test['Age'], bins=bins, labels=labels, right=False)\n",
    "titanic_test = titanic_test.drop(['Age'], axis=1)\n",
    "\n",
    "titanic_test['Age_Group'].value_counts()"
   ]
  },
  {
   "cell_type": "code",
   "execution_count": 62,
   "id": "f5341f32",
   "metadata": {
    "execution": {
     "iopub.execute_input": "2024-02-06T08:27:08.066106Z",
     "iopub.status.busy": "2024-02-06T08:27:08.065646Z",
     "iopub.status.idle": "2024-02-06T08:27:08.081076Z",
     "shell.execute_reply": "2024-02-06T08:27:08.079922Z"
    },
    "papermill": {
     "duration": 0.065932,
     "end_time": "2024-02-06T08:27:08.085209",
     "exception": false,
     "start_time": "2024-02-06T08:27:08.019277",
     "status": "completed"
    },
    "tags": []
   },
   "outputs": [
    {
     "name": "stdout",
     "output_type": "stream",
     "text": [
      "<class 'pandas.core.frame.DataFrame'>\n",
      "RangeIndex: 418 entries, 0 to 417\n",
      "Data columns (total 8 columns):\n",
      " #   Column     Non-Null Count  Dtype   \n",
      "---  ------     --------------  -----   \n",
      " 0   Pclass     418 non-null    int64   \n",
      " 1   Sex        418 non-null    object  \n",
      " 2   SibSp      418 non-null    int64   \n",
      " 3   Parch      418 non-null    int64   \n",
      " 4   Fare       417 non-null    float64 \n",
      " 5   Cabin      91 non-null     object  \n",
      " 6   Embarked   418 non-null    object  \n",
      " 7   Age_Group  418 non-null    category\n",
      "dtypes: category(1), float64(1), int64(3), object(3)\n",
      "memory usage: 23.6+ KB\n"
     ]
    },
    {
     "name": "stderr",
     "output_type": "stream",
     "text": [
      "/tmp/ipykernel_18/732426848.py:1: FutureWarning: A value is trying to be set on a copy of a DataFrame or Series through chained assignment using an inplace method.\n",
      "The behavior will change in pandas 3.0. This inplace method will never work because the intermediate object on which we are setting values always behaves as a copy.\n",
      "\n",
      "For example, when doing 'df[col].method(value, inplace=True)', try using 'df.method({col: value}, inplace=True)' or df[col] = df[col].method(value) instead, to perform the operation inplace on the original object.\n",
      "\n",
      "\n",
      "  titanic_test['Age_Group'].fillna(titanic_test['Age_Group'].value_counts().idxmax(), inplace=True)\n"
     ]
    }
   ],
   "source": [
    "titanic_test['Age_Group'].fillna(titanic_test['Age_Group'].value_counts().idxmax(), inplace=True)\n",
    "titanic_test.info()"
   ]
  },
  {
   "cell_type": "code",
   "execution_count": 63,
   "id": "a7335383",
   "metadata": {
    "execution": {
     "iopub.execute_input": "2024-02-06T08:27:08.176831Z",
     "iopub.status.busy": "2024-02-06T08:27:08.176169Z",
     "iopub.status.idle": "2024-02-06T08:27:08.185507Z",
     "shell.execute_reply": "2024-02-06T08:27:08.184401Z"
    },
    "papermill": {
     "duration": 0.0578,
     "end_time": "2024-02-06T08:27:08.187725",
     "exception": false,
     "start_time": "2024-02-06T08:27:08.129925",
     "status": "completed"
    },
    "tags": []
   },
   "outputs": [
    {
     "data": {
      "text/plain": [
       "Age_Group\n",
       "3    295\n",
       "0     68\n",
       "1     41\n",
       "2     14\n",
       "Name: count, dtype: int64"
      ]
     },
     "execution_count": 63,
     "metadata": {},
     "output_type": "execute_result"
    }
   ],
   "source": [
    "titanic_test.Age_Group = le.fit_transform(titanic_test.Age_Group.values)\n",
    "titanic_test['Age_Group'].value_counts()"
   ]
  },
  {
   "cell_type": "code",
   "execution_count": 64,
   "id": "4c608794",
   "metadata": {
    "execution": {
     "iopub.execute_input": "2024-02-06T08:27:08.280193Z",
     "iopub.status.busy": "2024-02-06T08:27:08.279767Z",
     "iopub.status.idle": "2024-02-06T08:27:08.288265Z",
     "shell.execute_reply": "2024-02-06T08:27:08.287044Z"
    },
    "papermill": {
     "duration": 0.057271,
     "end_time": "2024-02-06T08:27:08.290452",
     "exception": false,
     "start_time": "2024-02-06T08:27:08.233181",
     "status": "completed"
    },
    "tags": []
   },
   "outputs": [
    {
     "data": {
      "text/plain": [
       "Index(['Pclass', 'Sex', 'SibSp', 'Parch', 'Fare', 'Embarked', 'Age_Group'], dtype='object')"
      ]
     },
     "execution_count": 64,
     "metadata": {},
     "output_type": "execute_result"
    }
   ],
   "source": [
    "#drop the cabin column\n",
    "titanic_test.drop(['Cabin'], axis=1, inplace=True)\n",
    "titanic_test.columns"
   ]
  },
  {
   "cell_type": "code",
   "execution_count": 65,
   "id": "c59678f8",
   "metadata": {
    "execution": {
     "iopub.execute_input": "2024-02-06T08:27:08.386205Z",
     "iopub.status.busy": "2024-02-06T08:27:08.385244Z",
     "iopub.status.idle": "2024-02-06T08:27:08.393759Z",
     "shell.execute_reply": "2024-02-06T08:27:08.392734Z"
    },
    "papermill": {
     "duration": 0.060381,
     "end_time": "2024-02-06T08:27:08.395964",
     "exception": false,
     "start_time": "2024-02-06T08:27:08.335583",
     "status": "completed"
    },
    "tags": []
   },
   "outputs": [
    {
     "data": {
      "text/plain": [
       "Sex\n",
       "male      266\n",
       "female    152\n",
       "Name: count, dtype: int64"
      ]
     },
     "execution_count": 65,
     "metadata": {},
     "output_type": "execute_result"
    }
   ],
   "source": [
    "#label encoding on Sex\n",
    "titanic_test['Sex'].value_counts()"
   ]
  },
  {
   "cell_type": "code",
   "execution_count": 66,
   "id": "cebf2232",
   "metadata": {
    "execution": {
     "iopub.execute_input": "2024-02-06T08:27:08.496969Z",
     "iopub.status.busy": "2024-02-06T08:27:08.496090Z",
     "iopub.status.idle": "2024-02-06T08:27:08.506320Z",
     "shell.execute_reply": "2024-02-06T08:27:08.505290Z"
    },
    "papermill": {
     "duration": 0.066582,
     "end_time": "2024-02-06T08:27:08.509467",
     "exception": false,
     "start_time": "2024-02-06T08:27:08.442885",
     "status": "completed"
    },
    "tags": []
   },
   "outputs": [
    {
     "data": {
      "text/plain": [
       "Sex\n",
       "1    266\n",
       "0    152\n",
       "Name: count, dtype: int64"
      ]
     },
     "execution_count": 66,
     "metadata": {},
     "output_type": "execute_result"
    }
   ],
   "source": [
    "titanic_test.Sex = le.fit_transform(titanic_test.Sex.values)\n",
    "titanic_test['Sex'].value_counts()"
   ]
  },
  {
   "cell_type": "code",
   "execution_count": 67,
   "id": "7fe08cf7",
   "metadata": {
    "execution": {
     "iopub.execute_input": "2024-02-06T08:27:08.612821Z",
     "iopub.status.busy": "2024-02-06T08:27:08.611759Z",
     "iopub.status.idle": "2024-02-06T08:27:08.620758Z",
     "shell.execute_reply": "2024-02-06T08:27:08.619721Z"
    },
    "papermill": {
     "duration": 0.059038,
     "end_time": "2024-02-06T08:27:08.622961",
     "exception": false,
     "start_time": "2024-02-06T08:27:08.563923",
     "status": "completed"
    },
    "tags": []
   },
   "outputs": [
    {
     "data": {
      "text/plain": [
       "Embarked\n",
       "S    270\n",
       "C    102\n",
       "Q     46\n",
       "Name: count, dtype: int64"
      ]
     },
     "execution_count": 67,
     "metadata": {},
     "output_type": "execute_result"
    }
   ],
   "source": [
    "#label encoding on embarked\n",
    "titanic_test['Embarked'].value_counts()"
   ]
  },
  {
   "cell_type": "code",
   "execution_count": 68,
   "id": "47318bd7",
   "metadata": {
    "execution": {
     "iopub.execute_input": "2024-02-06T08:27:08.719382Z",
     "iopub.status.busy": "2024-02-06T08:27:08.718181Z",
     "iopub.status.idle": "2024-02-06T08:27:08.727664Z",
     "shell.execute_reply": "2024-02-06T08:27:08.726672Z"
    },
    "papermill": {
     "duration": 0.060347,
     "end_time": "2024-02-06T08:27:08.730196",
     "exception": false,
     "start_time": "2024-02-06T08:27:08.669849",
     "status": "completed"
    },
    "tags": []
   },
   "outputs": [
    {
     "data": {
      "text/plain": [
       "Embarked\n",
       "2    270\n",
       "0    102\n",
       "1     46\n",
       "Name: count, dtype: int64"
      ]
     },
     "execution_count": 68,
     "metadata": {},
     "output_type": "execute_result"
    }
   ],
   "source": [
    "titanic_test.Embarked = le.fit_transform(titanic_test.Embarked.values)\n",
    "titanic_test['Embarked'].value_counts()"
   ]
  },
  {
   "cell_type": "code",
   "execution_count": 69,
   "id": "45e90f73",
   "metadata": {
    "execution": {
     "iopub.execute_input": "2024-02-06T08:27:08.824663Z",
     "iopub.status.busy": "2024-02-06T08:27:08.824271Z",
     "iopub.status.idle": "2024-02-06T08:27:08.836118Z",
     "shell.execute_reply": "2024-02-06T08:27:08.835048Z"
    },
    "papermill": {
     "duration": 0.061841,
     "end_time": "2024-02-06T08:27:08.838551",
     "exception": false,
     "start_time": "2024-02-06T08:27:08.776710",
     "status": "completed"
    },
    "tags": []
   },
   "outputs": [
    {
     "name": "stdout",
     "output_type": "stream",
     "text": [
      "<class 'pandas.core.frame.DataFrame'>\n",
      "RangeIndex: 418 entries, 0 to 417\n",
      "Data columns (total 7 columns):\n",
      " #   Column     Non-Null Count  Dtype  \n",
      "---  ------     --------------  -----  \n",
      " 0   Pclass     418 non-null    float64\n",
      " 1   Sex        418 non-null    float64\n",
      " 2   SibSp      418 non-null    float64\n",
      " 3   Parch      418 non-null    float64\n",
      " 4   Fare       417 non-null    float64\n",
      " 5   Embarked   418 non-null    float64\n",
      " 6   Age_Group  418 non-null    float64\n",
      "dtypes: float64(7)\n",
      "memory usage: 23.0 KB\n"
     ]
    }
   ],
   "source": [
    "test = titanic_test.astype(float)\n",
    "test.info()"
   ]
  },
  {
   "cell_type": "code",
   "execution_count": 70,
   "id": "67848dec",
   "metadata": {
    "execution": {
     "iopub.execute_input": "2024-02-06T08:27:08.931895Z",
     "iopub.status.busy": "2024-02-06T08:27:08.931480Z",
     "iopub.status.idle": "2024-02-06T08:27:08.943384Z",
     "shell.execute_reply": "2024-02-06T08:27:08.942311Z"
    },
    "papermill": {
     "duration": 0.063521,
     "end_time": "2024-02-06T08:27:08.947867",
     "exception": false,
     "start_time": "2024-02-06T08:27:08.884346",
     "status": "completed"
    },
    "tags": []
   },
   "outputs": [
    {
     "name": "stdout",
     "output_type": "stream",
     "text": [
      "<class 'pandas.core.frame.DataFrame'>\n",
      "RangeIndex: 418 entries, 0 to 417\n",
      "Data columns (total 7 columns):\n",
      " #   Column     Non-Null Count  Dtype  \n",
      "---  ------     --------------  -----  \n",
      " 0   Pclass     418 non-null    float64\n",
      " 1   Sex        418 non-null    float64\n",
      " 2   SibSp      418 non-null    float64\n",
      " 3   Parch      418 non-null    float64\n",
      " 4   Fare       418 non-null    float64\n",
      " 5   Embarked   418 non-null    float64\n",
      " 6   Age_Group  418 non-null    float64\n",
      "dtypes: float64(7)\n",
      "memory usage: 23.0 KB\n"
     ]
    },
    {
     "name": "stderr",
     "output_type": "stream",
     "text": [
      "/tmp/ipykernel_18/3809464291.py:1: FutureWarning: A value is trying to be set on a copy of a DataFrame or Series through chained assignment using an inplace method.\n",
      "The behavior will change in pandas 3.0. This inplace method will never work because the intermediate object on which we are setting values always behaves as a copy.\n",
      "\n",
      "For example, when doing 'df[col].method(value, inplace=True)', try using 'df.method({col: value}, inplace=True)' or df[col] = df[col].method(value) instead, to perform the operation inplace on the original object.\n",
      "\n",
      "\n",
      "  test['Fare'].fillna(test['Fare'].mean(), inplace=True)\n"
     ]
    }
   ],
   "source": [
    "test['Fare'].fillna(test['Fare'].mean(), inplace=True)\n",
    "test.info()"
   ]
  },
  {
   "cell_type": "markdown",
   "id": "036bb7fb",
   "metadata": {
    "papermill": {
     "duration": 0.047215,
     "end_time": "2024-02-06T08:27:09.041104",
     "exception": false,
     "start_time": "2024-02-06T08:27:08.993889",
     "status": "completed"
    },
    "tags": []
   },
   "source": [
    "### 8.2 Apply Logistic Regression"
   ]
  },
  {
   "cell_type": "code",
   "execution_count": 71,
   "id": "255b6f86",
   "metadata": {
    "execution": {
     "iopub.execute_input": "2024-02-06T08:27:09.134715Z",
     "iopub.status.busy": "2024-02-06T08:27:09.134334Z",
     "iopub.status.idle": "2024-02-06T08:27:09.147813Z",
     "shell.execute_reply": "2024-02-06T08:27:09.146522Z"
    },
    "papermill": {
     "duration": 0.063018,
     "end_time": "2024-02-06T08:27:09.150239",
     "exception": false,
     "start_time": "2024-02-06T08:27:09.087221",
     "status": "completed"
    },
    "tags": []
   },
   "outputs": [
    {
     "data": {
      "text/plain": [
       "array([0., 1., 0., 0., 1., 0., 1., 0., 1., 0., 0., 0., 1., 0., 1., 1., 0.,\n",
       "       0., 1., 1., 0., 0., 1., 0., 1., 0., 1., 0., 0., 0., 0., 0., 1., 1.,\n",
       "       0., 0., 1., 1., 0., 0., 0., 0., 0., 1., 1., 0., 0., 0., 1., 1., 0.,\n",
       "       0., 1., 1., 0., 0., 0., 0., 0., 1., 0., 0., 0., 1., 1., 1., 1., 0.,\n",
       "       0., 1., 1., 0., 1., 0., 1., 1., 0., 1., 0., 1., 0., 1., 0., 0., 0.,\n",
       "       0., 1., 1., 1., 0., 1., 0., 1., 0., 0., 0., 1., 0., 1., 0., 1., 0.,\n",
       "       0., 0., 1., 0., 0., 0., 0., 0., 0., 1., 1., 1., 1., 0., 0., 1., 1.,\n",
       "       1., 1., 0., 1., 0., 0., 1., 0., 1., 0., 0., 0., 0., 1., 0., 0., 0.,\n",
       "       0., 0., 1., 0., 0., 1., 1., 0., 0., 0., 0., 0., 0., 0., 1., 0., 0.,\n",
       "       1., 0., 0., 1., 1., 0., 1., 1., 0., 1., 0., 0., 1., 1., 0., 1., 1.,\n",
       "       0., 0., 0., 0., 0., 1., 1., 0., 1., 1., 0., 0., 1., 0., 1., 0., 1.,\n",
       "       0., 0., 0., 0., 0., 0., 0., 0., 0., 1., 1., 0., 1., 1., 0., 1., 1.,\n",
       "       0., 0., 1., 0., 1., 0., 0., 0., 0., 1., 0., 0., 1., 0., 1., 0., 1.,\n",
       "       0., 1., 0., 1., 1., 0., 1., 0., 0., 0., 1., 0., 0., 0., 0., 0., 0.,\n",
       "       1., 1., 1., 1., 1., 0., 0., 0., 1., 0., 1., 1., 1., 0., 1., 0., 0.,\n",
       "       0., 0., 0., 1., 0., 0., 0., 1., 1., 0., 0., 0., 0., 1., 0., 1., 0.,\n",
       "       1., 1., 0., 1., 0., 0., 0., 0., 1., 0., 1., 1., 1., 0., 0., 0., 0.,\n",
       "       0., 0., 1., 0., 0., 0., 0., 1., 0., 0., 0., 0., 0., 0., 0., 1., 1.,\n",
       "       0., 0., 0., 1., 0., 0., 0., 1., 1., 1., 1., 0., 0., 0., 0., 0., 0.,\n",
       "       0., 1., 0., 1., 1., 0., 0., 1., 0., 0., 1., 0., 0., 0., 0., 0., 0.,\n",
       "       0., 0., 0., 1., 0., 1., 0., 1., 0., 1., 1., 0., 0., 0., 1., 0., 1.,\n",
       "       0., 0., 1., 0., 1., 1., 0., 1., 1., 0., 1., 1., 0., 0., 1., 0., 0.,\n",
       "       1., 1., 0., 0., 0., 0., 0., 0., 1., 1., 0., 1., 0., 0., 0., 0., 0.,\n",
       "       1., 0., 0., 0., 1., 0., 1., 0., 0., 1., 0., 1., 0., 0., 0., 0., 1.,\n",
       "       1., 1., 1., 1., 1., 0., 1., 0., 0., 0.])"
      ]
     },
     "execution_count": 71,
     "metadata": {},
     "output_type": "execute_result"
    }
   ],
   "source": [
    "result = LogisticR.predict(test)\n",
    "result"
   ]
  },
  {
   "cell_type": "code",
   "execution_count": 72,
   "id": "e9d0fc4a",
   "metadata": {
    "execution": {
     "iopub.execute_input": "2024-02-06T08:27:09.247334Z",
     "iopub.status.busy": "2024-02-06T08:27:09.246907Z",
     "iopub.status.idle": "2024-02-06T08:27:09.252200Z",
     "shell.execute_reply": "2024-02-06T08:27:09.250817Z"
    },
    "papermill": {
     "duration": 0.05686,
     "end_time": "2024-02-06T08:27:09.254506",
     "exception": false,
     "start_time": "2024-02-06T08:27:09.197646",
     "status": "completed"
    },
    "tags": []
   },
   "outputs": [],
   "source": [
    "# the dtype of submission file should be int\n",
    "result = result.astype(int)"
   ]
  },
  {
   "cell_type": "code",
   "execution_count": 73,
   "id": "36f27d85",
   "metadata": {
    "execution": {
     "iopub.execute_input": "2024-02-06T08:27:09.348844Z",
     "iopub.status.busy": "2024-02-06T08:27:09.348397Z",
     "iopub.status.idle": "2024-02-06T08:27:09.355206Z",
     "shell.execute_reply": "2024-02-06T08:27:09.354069Z"
    },
    "papermill": {
     "duration": 0.056769,
     "end_time": "2024-02-06T08:27:09.357601",
     "exception": false,
     "start_time": "2024-02-06T08:27:09.300832",
     "status": "completed"
    },
    "tags": []
   },
   "outputs": [
    {
     "data": {
      "text/plain": [
       "dtype('int64')"
      ]
     },
     "execution_count": 73,
     "metadata": {},
     "output_type": "execute_result"
    }
   ],
   "source": [
    "result.dtype"
   ]
  },
  {
   "cell_type": "code",
   "execution_count": 74,
   "id": "0fed9b9f",
   "metadata": {
    "execution": {
     "iopub.execute_input": "2024-02-06T08:27:09.456897Z",
     "iopub.status.busy": "2024-02-06T08:27:09.456197Z",
     "iopub.status.idle": "2024-02-06T08:27:09.471434Z",
     "shell.execute_reply": "2024-02-06T08:27:09.470048Z"
    },
    "papermill": {
     "duration": 0.068294,
     "end_time": "2024-02-06T08:27:09.473840",
     "exception": false,
     "start_time": "2024-02-06T08:27:09.405546",
     "status": "completed"
    },
    "tags": []
   },
   "outputs": [
    {
     "name": "stdout",
     "output_type": "stream",
     "text": [
      "Your submission was successfully saved!\n"
     ]
    }
   ],
   "source": [
    "Id = pd.read_csv(\"/kaggle/input/titanic/test.csv\")\n",
    "output = pd.DataFrame({'PassengerId': Id.PassengerId, 'Survived':result})\n",
    "output.to_csv('submission_ver2.csv', index=False)\n",
    "print(\"Your submission was successfully saved!\")"
   ]
  },
  {
   "cell_type": "code",
   "execution_count": null,
   "id": "8d28e804",
   "metadata": {
    "papermill": {
     "duration": 0.046496,
     "end_time": "2024-02-06T08:27:09.567376",
     "exception": false,
     "start_time": "2024-02-06T08:27:09.520880",
     "status": "completed"
    },
    "tags": []
   },
   "outputs": [],
   "source": []
  }
 ],
 "metadata": {
  "kaggle": {
   "accelerator": "none",
   "dataSources": [
    {
     "databundleVersionId": 26502,
     "sourceId": 3136,
     "sourceType": "competition"
    }
   ],
   "dockerImageVersionId": 30646,
   "isGpuEnabled": false,
   "isInternetEnabled": true,
   "language": "python",
   "sourceType": "notebook"
  },
  "kernelspec": {
   "display_name": "Python 3",
   "language": "python",
   "name": "python3"
  },
  "language_info": {
   "codemirror_mode": {
    "name": "ipython",
    "version": 3
   },
   "file_extension": ".py",
   "mimetype": "text/x-python",
   "name": "python",
   "nbconvert_exporter": "python",
   "pygments_lexer": "ipython3",
   "version": "3.10.13"
  },
  "papermill": {
   "default_parameters": {},
   "duration": 21.268747,
   "end_time": "2024-02-06T08:27:10.236442",
   "environment_variables": {},
   "exception": null,
   "input_path": "__notebook__.ipynb",
   "output_path": "__notebook__.ipynb",
   "parameters": {},
   "start_time": "2024-02-06T08:26:48.967695",
   "version": "2.5.0"
  }
 },
 "nbformat": 4,
 "nbformat_minor": 5
}
